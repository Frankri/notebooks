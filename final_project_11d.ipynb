{
 "metadata": {
  "name": "",
  "signature": "sha256:942e8b366ae7e286a02e7953da241678743d51ac7507a2de95c278a780af1f41"
 },
 "nbformat": 3,
 "nbformat_minor": 0,
 "worksheets": [
  {
   "cells": [
    {
     "cell_type": "code",
     "collapsed": false,
     "input": [
      "import pandas as pd"
     ],
     "language": "python",
     "metadata": {},
     "outputs": [],
     "prompt_number": 4
    },
    {
     "cell_type": "code",
     "collapsed": false,
     "input": [
      "import numpy as np"
     ],
     "language": "python",
     "metadata": {},
     "outputs": [],
     "prompt_number": 5
    },
    {
     "cell_type": "code",
     "collapsed": false,
     "input": [
      "import matplotlib.pyplot as plt"
     ],
     "language": "python",
     "metadata": {},
     "outputs": [],
     "prompt_number": 6
    },
    {
     "cell_type": "code",
     "collapsed": false,
     "input": [
      "import scipy as sp"
     ],
     "language": "python",
     "metadata": {},
     "outputs": [],
     "prompt_number": 7
    },
    {
     "cell_type": "code",
     "collapsed": false,
     "input": [
      "import seaborn as sns"
     ],
     "language": "python",
     "metadata": {},
     "outputs": [],
     "prompt_number": 8
    },
    {
     "cell_type": "code",
     "collapsed": false,
     "input": [
      "%pylab inline"
     ],
     "language": "python",
     "metadata": {},
     "outputs": [
      {
       "output_type": "stream",
       "stream": "stdout",
       "text": [
        "Populating the interactive namespace from numpy and matplotlib\n"
       ]
      }
     ],
     "prompt_number": 9
    },
    {
     "cell_type": "markdown",
     "metadata": {},
     "source": [
      "## Import the Data in Data Frame"
     ]
    },
    {
     "cell_type": "code",
     "collapsed": false,
     "input": [
      "data = pd.read_csv('turnstile_data_master_with_weather.csv')"
     ],
     "language": "python",
     "metadata": {},
     "outputs": [],
     "prompt_number": 10
    },
    {
     "cell_type": "code",
     "collapsed": false,
     "input": [
      "data.columns"
     ],
     "language": "python",
     "metadata": {},
     "outputs": [
      {
       "metadata": {},
       "output_type": "pyout",
       "prompt_number": 29,
       "text": [
        "Index([u'Unnamed: 0', u'UNIT', u'DATEn', u'TIMEn', u'Hour', u'DESCn', u'ENTRIESn_hourly', u'EXITSn_hourly', u'maxpressurei', u'maxdewpti', u'mindewpti', u'minpressurei', u'meandewpti', u'meanpressurei', u'fog', u'rain', u'meanwindspdi', u'mintempi', u'meantempi', u'maxtempi', u'precipi', u'thunder'], dtype='object')"
       ]
      }
     ],
     "prompt_number": 29
    },
    {
     "cell_type": "markdown",
     "metadata": {},
     "source": [
      "## Start the Search"
     ]
    },
    {
     "cell_type": "markdown",
     "metadata": {},
     "source": [
      "### Temperatures\n",
      "just looking around"
     ]
    },
    {
     "cell_type": "code",
     "collapsed": false,
     "input": [
      "data[['meantempi', 'maxtempi', 'mintempi']].hist()"
     ],
     "language": "python",
     "metadata": {},
     "outputs": [
      {
       "metadata": {},
       "output_type": "pyout",
       "prompt_number": 24,
       "text": [
        "array([[<matplotlib.axes.AxesSubplot object at 0x5bfe810>,\n",
        "        <matplotlib.axes.AxesSubplot object at 0x8bd0c90>],\n",
        "       [<matplotlib.axes.AxesSubplot object at 0x79fb650>,\n",
        "        <matplotlib.axes.AxesSubplot object at 0x7e72d50>]], dtype=object)"
       ]
      },
      {
       "metadata": {},
       "output_type": "display_data",
       "png": "[encoded data removed]",
       "text": [
        "<matplotlib.figure.Figure at 0x6fbb590>"
       ]
      }
     ],
     "prompt_number": 24
    },
    {
     "cell_type": "code",
     "collapsed": false,
     "input": [
      "data[['meantempi', 'maxtempi', 'mintempi']].describe()"
     ],
     "language": "python",
     "metadata": {},
     "outputs": [
      {
       "html": [
        "<div style=\"max-height:1000px;max-width:1500px;overflow:auto;\">\n",
        "<table border=\"1\" class=\"dataframe\">\n",
        "  <thead>\n",
        "    <tr style=\"text-align: right;\">\n",
        "      <th></th>\n",
        "      <th>meantempi</th>\n",
        "      <th>maxtempi</th>\n",
        "      <th>mintempi</th>\n",
        "    </tr>\n",
        "  </thead>\n",
        "  <tbody>\n",
        "    <tr>\n",
        "      <th>count</th>\n",
        "      <td> 131951.000000</td>\n",
        "      <td> 131951.000000</td>\n",
        "      <td> 131951.000000</td>\n",
        "    </tr>\n",
        "    <tr>\n",
        "      <th>mean</th>\n",
        "      <td>     64.269729</td>\n",
        "      <td>     71.769968</td>\n",
        "      <td>     56.169775</td>\n",
        "    </tr>\n",
        "    <tr>\n",
        "      <th>std</th>\n",
        "      <td>      6.568289</td>\n",
        "      <td>      7.627218</td>\n",
        "      <td>      6.338875</td>\n",
        "    </tr>\n",
        "    <tr>\n",
        "      <th>min</th>\n",
        "      <td>     55.000000</td>\n",
        "      <td>     58.000000</td>\n",
        "      <td>     46.000000</td>\n",
        "    </tr>\n",
        "    <tr>\n",
        "      <th>25%</th>\n",
        "      <td>     60.000000</td>\n",
        "      <td>     65.000000</td>\n",
        "      <td>     52.000000</td>\n",
        "    </tr>\n",
        "    <tr>\n",
        "      <th>50%</th>\n",
        "      <td>     63.000000</td>\n",
        "      <td>     71.000000</td>\n",
        "      <td>     54.000000</td>\n",
        "    </tr>\n",
        "    <tr>\n",
        "      <th>75%</th>\n",
        "      <td>     68.000000</td>\n",
        "      <td>     78.000000</td>\n",
        "      <td>     60.000000</td>\n",
        "    </tr>\n",
        "    <tr>\n",
        "      <th>max</th>\n",
        "      <td>     78.000000</td>\n",
        "      <td>     86.000000</td>\n",
        "      <td>     70.000000</td>\n",
        "    </tr>\n",
        "  </tbody>\n",
        "</table>\n",
        "</div>"
       ],
       "metadata": {},
       "output_type": "pyout",
       "prompt_number": 27,
       "text": [
        "           meantempi       maxtempi       mintempi\n",
        "count  131951.000000  131951.000000  131951.000000\n",
        "mean       64.269729      71.769968      56.169775\n",
        "std         6.568289       7.627218       6.338875\n",
        "min        55.000000      58.000000      46.000000\n",
        "25%        60.000000      65.000000      52.000000\n",
        "50%        63.000000      71.000000      54.000000\n",
        "75%        68.000000      78.000000      60.000000\n",
        "max        78.000000      86.000000      70.000000"
       ]
      }
     ],
     "prompt_number": 27
    },
    {
     "cell_type": "code",
     "collapsed": false,
     "input": [
      "data[['maxpressurei', 'minpressurei', 'meanpressurei']].hist()"
     ],
     "language": "python",
     "metadata": {},
     "outputs": [
      {
       "metadata": {},
       "output_type": "pyout",
       "prompt_number": 30,
       "text": [
        "array([[<matplotlib.axes.AxesSubplot object at 0x6c24410>,\n",
        "        <matplotlib.axes.AxesSubplot object at 0x7d952d0>],\n",
        "       [<matplotlib.axes.AxesSubplot object at 0x80d6110>,\n",
        "        <matplotlib.axes.AxesSubplot object at 0x80ad810>]], dtype=object)"
       ]
      },
      {
       "metadata": {},
       "output_type": "display_data",
       "png": "[encoded data removed]",
       "text": [
        "<matplotlib.figure.Figure at 0x79ed750>"
       ]
      }
     ],
     "prompt_number": 30
    },
    {
     "cell_type": "markdown",
     "metadata": {},
     "source": [
      "### Plotting (in) the Rain"
     ]
    },
    {
     "cell_type": "code",
     "collapsed": false,
     "input": [
      "data[['precipi']].hist()"
     ],
     "language": "python",
     "metadata": {},
     "outputs": [
      {
       "metadata": {},
       "output_type": "pyout",
       "prompt_number": 31,
       "text": [
        "array([[<matplotlib.axes.AxesSubplot object at 0x822c310>]], dtype=object)"
       ]
      },
      {
       "metadata": {},
       "output_type": "display_data",
       "png": "[encoded data removed]",
       "text": [
        "<matplotlib.figure.Figure at 0x8233310>"
       ]
      }
     ],
     "prompt_number": 31
    },
    {
     "cell_type": "code",
     "collapsed": false,
     "input": [
      "data[['ENTRIESn_hourly', 'EXITSn_hourly', 'rain']].groupby('rain').hist()"
     ],
     "language": "python",
     "metadata": {},
     "outputs": [
      {
       "metadata": {},
       "output_type": "pyout",
       "prompt_number": 36,
       "text": [
        "rain\n",
        "0       [[Axes(0.125,0.125;0.336957x0.775), Axes(0.563...\n",
        "1       [[Axes(0.125,0.125;0.336957x0.775), Axes(0.563...\n",
        "dtype: object"
       ]
      },
      {
       "metadata": {},
       "output_type": "display_data",
       "png": "[encoded data removed]",
       "text": [
        "<matplotlib.figure.Figure at 0xc64c7d0>"
       ]
      },
      {
       "metadata": {},
       "output_type": "display_data",
       "png": "[encoded data removed]",
       "text": [
        "<matplotlib.figure.Figure at 0xbfa3cd0>"
       ]
      }
     ],
     "prompt_number": 36
    },
    {
     "cell_type": "markdown",
     "metadata": {},
     "source": [
      "I will chech the enries, because I assume the rain pushes the the people in the subway. In _stats_ translated: H0: The is a difference between enries during rain fall and without rain fall. The H1: No difference between those two weather conditons."
     ]
    },
    {
     "cell_type": "code",
     "collapsed": false,
     "input": [
      "data[['ENTRIESn_hourly', 'EXITSn_hourly', 'rain']].groupby('rain').describe()"
     ],
     "language": "python",
     "metadata": {},
     "outputs": [
      {
       "html": [
        "<div style=\"max-height:1000px;max-width:1500px;overflow:auto;\">\n",
        "<table border=\"1\" class=\"dataframe\">\n",
        "  <thead>\n",
        "    <tr style=\"text-align: right;\">\n",
        "      <th></th>\n",
        "      <th></th>\n",
        "      <th>ENTRIESn_hourly</th>\n",
        "      <th>EXITSn_hourly</th>\n",
        "    </tr>\n",
        "    <tr>\n",
        "      <th>rain</th>\n",
        "      <th></th>\n",
        "      <th></th>\n",
        "      <th></th>\n",
        "    </tr>\n",
        "  </thead>\n",
        "  <tbody>\n",
        "    <tr>\n",
        "      <th rowspan=\"8\" valign=\"top\">0</th>\n",
        "      <th>count</th>\n",
        "      <td> 87847.000000</td>\n",
        "      <td> 87847.000000</td>\n",
        "    </tr>\n",
        "    <tr>\n",
        "      <th>mean</th>\n",
        "      <td>  1090.278780</td>\n",
        "      <td>   883.259610</td>\n",
        "    </tr>\n",
        "    <tr>\n",
        "      <th>std</th>\n",
        "      <td>  2320.004938</td>\n",
        "      <td>  1998.516762</td>\n",
        "    </tr>\n",
        "    <tr>\n",
        "      <th>min</th>\n",
        "      <td>     0.000000</td>\n",
        "      <td>     0.000000</td>\n",
        "    </tr>\n",
        "    <tr>\n",
        "      <th>25%</th>\n",
        "      <td>    38.000000</td>\n",
        "      <td>    31.000000</td>\n",
        "    </tr>\n",
        "    <tr>\n",
        "      <th>50%</th>\n",
        "      <td>   278.000000</td>\n",
        "      <td>   231.000000</td>\n",
        "    </tr>\n",
        "    <tr>\n",
        "      <th>75%</th>\n",
        "      <td>  1111.000000</td>\n",
        "      <td>   846.000000</td>\n",
        "    </tr>\n",
        "    <tr>\n",
        "      <th>max</th>\n",
        "      <td> 43199.000000</td>\n",
        "      <td> 45249.000000</td>\n",
        "    </tr>\n",
        "    <tr>\n",
        "      <th rowspan=\"8\" valign=\"top\">1</th>\n",
        "      <th>count</th>\n",
        "      <td> 44104.000000</td>\n",
        "      <td> 44104.000000</td>\n",
        "    </tr>\n",
        "    <tr>\n",
        "      <th>mean</th>\n",
        "      <td>  1105.446377</td>\n",
        "      <td>   894.123572</td>\n",
        "    </tr>\n",
        "    <tr>\n",
        "      <th>std</th>\n",
        "      <td>  2370.527674</td>\n",
        "      <td>  2028.552487</td>\n",
        "    </tr>\n",
        "    <tr>\n",
        "      <th>min</th>\n",
        "      <td>     0.000000</td>\n",
        "      <td>     0.000000</td>\n",
        "    </tr>\n",
        "    <tr>\n",
        "      <th>25%</th>\n",
        "      <td>    41.000000</td>\n",
        "      <td>    33.000000</td>\n",
        "    </tr>\n",
        "    <tr>\n",
        "      <th>50%</th>\n",
        "      <td>   282.000000</td>\n",
        "      <td>   235.000000</td>\n",
        "    </tr>\n",
        "    <tr>\n",
        "      <th>75%</th>\n",
        "      <td>  1103.250000</td>\n",
        "      <td>   849.000000</td>\n",
        "    </tr>\n",
        "    <tr>\n",
        "      <th>max</th>\n",
        "      <td> 51839.000000</td>\n",
        "      <td> 41503.000000</td>\n",
        "    </tr>\n",
        "  </tbody>\n",
        "</table>\n",
        "</div>"
       ],
       "metadata": {},
       "output_type": "pyout",
       "prompt_number": 71,
       "text": [
        "            ENTRIESn_hourly  EXITSn_hourly\n",
        "rain                                      \n",
        "0    count     87847.000000   87847.000000\n",
        "     mean       1090.278780     883.259610\n",
        "     std        2320.004938    1998.516762\n",
        "     min           0.000000       0.000000\n",
        "     25%          38.000000      31.000000\n",
        "     50%         278.000000     231.000000\n",
        "     75%        1111.000000     846.000000\n",
        "     max       43199.000000   45249.000000\n",
        "1    count     44104.000000   44104.000000\n",
        "     mean       1105.446377     894.123572\n",
        "     std        2370.527674    2028.552487\n",
        "     min           0.000000       0.000000\n",
        "     25%          41.000000      33.000000\n",
        "     50%         282.000000     235.000000\n",
        "     75%        1103.250000     849.000000\n",
        "     max       51839.000000   41503.000000"
       ]
      }
     ],
     "prompt_number": 71
    },
    {
     "cell_type": "code",
     "collapsed": false,
     "input": [
      "data[['ENTRIESn_hourly', 'EXITSn_hourly', 'rain']].groupby('rain').hist()"
     ],
     "language": "python",
     "metadata": {},
     "outputs": [],
     "prompt_number": 77
    },
    {
     "cell_type": "code",
     "collapsed": false,
     "input": [
      "rainy_days[['ENTRIESn_hourly']].hist()"
     ],
     "language": "python",
     "metadata": {},
     "outputs": [
      {
       "metadata": {},
       "output_type": "pyout",
       "prompt_number": 78,
       "text": [
        "array([[<matplotlib.axes.AxesSubplot object at 0xe6859d0>]], dtype=object)"
       ]
      },
      {
       "metadata": {},
       "output_type": "display_data",
       "png": "[encoded data removed]",
       "text": [
        "<matplotlib.figure.Figure at 0xc746e50>"
       ]
      }
     ],
     "prompt_number": 78
    },
    {
     "cell_type": "code",
     "collapsed": false,
     "input": [
      "non_rainy_days = data[data.rain == 0]"
     ],
     "language": "python",
     "metadata": {},
     "outputs": [],
     "prompt_number": 64
    },
    {
     "cell_type": "code",
     "collapsed": false,
     "input": [
      "non_rainy_days[['ENTRIESn_hourly']].hist()"
     ],
     "language": "python",
     "metadata": {},
     "outputs": [
      {
       "metadata": {},
       "output_type": "pyout",
       "prompt_number": 66,
       "text": [
        "array([[<matplotlib.axes.AxesSubplot object at 0xae5b510>]], dtype=object)"
       ]
      },
      {
       "metadata": {},
       "output_type": "display_data",
       "png": "[encoded data removed]",
       "text": [
        "<matplotlib.figure.Figure at 0xae682d0>"
       ]
      }
     ],
     "prompt_number": 66
    },
    {
     "cell_type": "code",
     "collapsed": false,
     "input": [
      "(u, pvalue) = sp.stats.mannwhitneyu(non_rainy_days[\"ENTRIESn_hourly\"],\n",
      "                                       rainy_days[\"ENTRIESn_hourly\"])\n",
      "print \"entries on non rainy_days: %s\" % non_rainy_days[\"ENTRIESn_hourly\"].median()\n",
      "print \"entries on rainy_days: %s\" % rainy_days[\"ENTRIESn_hourly\"].median()\n",
      "print \"p-value of test statistic: %.4f\" % (pvalue * 2, )"
     ],
     "language": "python",
     "metadata": {},
     "outputs": [
      {
       "output_type": "stream",
       "stream": "stdout",
       "text": [
        "entries on non rainy_days: 278.0\n",
        "entries on rainy_days: 282.0\n",
        "p-value of test statistic: 0.0500\n"
       ]
      }
     ],
     "prompt_number": 87
    },
    {
     "cell_type": "markdown",
     "metadata": {},
     "source": [
      "The H1 ist is rejected, what means H0 is correct - but in average 4 people? "
     ]
    },
    {
     "cell_type": "markdown",
     "metadata": {},
     "source": [
      "### The Data Fog\n",
      "Perform the same for fog."
     ]
    },
    {
     "cell_type": "code",
     "collapsed": false,
     "input": [
      "data[['ENTRIESn_hourly', 'EXITSn_hourly', 'fog']].groupby('fog').describe()"
     ],
     "language": "python",
     "metadata": {},
     "outputs": [
      {
       "html": [
        "<div style=\"max-height:1000px;max-width:1500px;overflow:auto;\">\n",
        "<table border=\"1\" class=\"dataframe\">\n",
        "  <thead>\n",
        "    <tr style=\"text-align: right;\">\n",
        "      <th></th>\n",
        "      <th></th>\n",
        "      <th>ENTRIESn_hourly</th>\n",
        "      <th>EXITSn_hourly</th>\n",
        "    </tr>\n",
        "    <tr>\n",
        "      <th>rain</th>\n",
        "      <th></th>\n",
        "      <th></th>\n",
        "      <th></th>\n",
        "    </tr>\n",
        "  </thead>\n",
        "  <tbody>\n",
        "    <tr>\n",
        "      <th rowspan=\"8\" valign=\"top\">0</th>\n",
        "      <th>count</th>\n",
        "      <td> 87847.000000</td>\n",
        "      <td> 87847.000000</td>\n",
        "    </tr>\n",
        "    <tr>\n",
        "      <th>mean</th>\n",
        "      <td>  1090.278780</td>\n",
        "      <td>   883.259610</td>\n",
        "    </tr>\n",
        "    <tr>\n",
        "      <th>std</th>\n",
        "      <td>  2320.004938</td>\n",
        "      <td>  1998.516762</td>\n",
        "    </tr>\n",
        "    <tr>\n",
        "      <th>min</th>\n",
        "      <td>     0.000000</td>\n",
        "      <td>     0.000000</td>\n",
        "    </tr>\n",
        "    <tr>\n",
        "      <th>25%</th>\n",
        "      <td>    38.000000</td>\n",
        "      <td>    31.000000</td>\n",
        "    </tr>\n",
        "    <tr>\n",
        "      <th>50%</th>\n",
        "      <td>   278.000000</td>\n",
        "      <td>   231.000000</td>\n",
        "    </tr>\n",
        "    <tr>\n",
        "      <th>75%</th>\n",
        "      <td>  1111.000000</td>\n",
        "      <td>   846.000000</td>\n",
        "    </tr>\n",
        "    <tr>\n",
        "      <th>max</th>\n",
        "      <td> 43199.000000</td>\n",
        "      <td> 45249.000000</td>\n",
        "    </tr>\n",
        "    <tr>\n",
        "      <th rowspan=\"8\" valign=\"top\">1</th>\n",
        "      <th>count</th>\n",
        "      <td> 44104.000000</td>\n",
        "      <td> 44104.000000</td>\n",
        "    </tr>\n",
        "    <tr>\n",
        "      <th>mean</th>\n",
        "      <td>  1105.446377</td>\n",
        "      <td>   894.123572</td>\n",
        "    </tr>\n",
        "    <tr>\n",
        "      <th>std</th>\n",
        "      <td>  2370.527674</td>\n",
        "      <td>  2028.552487</td>\n",
        "    </tr>\n",
        "    <tr>\n",
        "      <th>min</th>\n",
        "      <td>     0.000000</td>\n",
        "      <td>     0.000000</td>\n",
        "    </tr>\n",
        "    <tr>\n",
        "      <th>25%</th>\n",
        "      <td>    41.000000</td>\n",
        "      <td>    33.000000</td>\n",
        "    </tr>\n",
        "    <tr>\n",
        "      <th>50%</th>\n",
        "      <td>   282.000000</td>\n",
        "      <td>   235.000000</td>\n",
        "    </tr>\n",
        "    <tr>\n",
        "      <th>75%</th>\n",
        "      <td>  1103.250000</td>\n",
        "      <td>   849.000000</td>\n",
        "    </tr>\n",
        "    <tr>\n",
        "      <th>max</th>\n",
        "      <td> 51839.000000</td>\n",
        "      <td> 41503.000000</td>\n",
        "    </tr>\n",
        "  </tbody>\n",
        "</table>\n",
        "</div>"
       ],
       "metadata": {},
       "output_type": "pyout",
       "prompt_number": 72,
       "text": [
        "            ENTRIESn_hourly  EXITSn_hourly\n",
        "rain                                      \n",
        "0    count     87847.000000   87847.000000\n",
        "     mean       1090.278780     883.259610\n",
        "     std        2320.004938    1998.516762\n",
        "     min           0.000000       0.000000\n",
        "     25%          38.000000      31.000000\n",
        "     50%         278.000000     231.000000\n",
        "     75%        1111.000000     846.000000\n",
        "     max       43199.000000   45249.000000\n",
        "1    count     44104.000000   44104.000000\n",
        "     mean       1105.446377     894.123572\n",
        "     std        2370.527674    2028.552487\n",
        "     min           0.000000       0.000000\n",
        "     25%          41.000000      33.000000\n",
        "     50%         282.000000     235.000000\n",
        "     75%        1103.250000     849.000000\n",
        "     max       51839.000000   41503.000000"
       ]
      }
     ],
     "prompt_number": 72
    },
    {
     "cell_type": "code",
     "collapsed": false,
     "input": [
      "fogy_days = data[data.fog == 1]"
     ],
     "language": "python",
     "metadata": {},
     "outputs": [],
     "prompt_number": 75
    },
    {
     "cell_type": "code",
     "collapsed": false,
     "input": [
      "fogy_days[['ENTRIESn_hourly']].hist()"
     ],
     "language": "python",
     "metadata": {},
     "outputs": [
      {
       "metadata": {},
       "output_type": "pyout",
       "prompt_number": 76,
       "text": [
        "array([[<matplotlib.axes.AxesSubplot object at 0xe4b1150>]], dtype=object)"
       ]
      },
      {
       "metadata": {},
       "output_type": "display_data",
       "png": "[encoded data removed]",
       "text": [
        "<matplotlib.figure.Figure at 0xe492d10>"
       ]
      }
     ],
     "prompt_number": 76
    },
    {
     "cell_type": "code",
     "collapsed": false,
     "input": [
      "non_fogy_days = data[data.fog == 0]"
     ],
     "language": "python",
     "metadata": {},
     "outputs": [],
     "prompt_number": 79
    },
    {
     "cell_type": "code",
     "collapsed": false,
     "input": [
      "non_fogy_days[['ENTRIESn_hourly']].hist()"
     ],
     "language": "python",
     "metadata": {},
     "outputs": [
      {
       "metadata": {},
       "output_type": "pyout",
       "prompt_number": 80,
       "text": [
        "array([[<matplotlib.axes.AxesSubplot object at 0xe6b8850>]], dtype=object)"
       ]
      },
      {
       "metadata": {},
       "output_type": "display_data",
       "png": "[encoded data removed]",
       "text": [
        "<matplotlib.figure.Figure at 0xe484110>"
       ]
      }
     ],
     "prompt_number": 80
    },
    {
     "cell_type": "code",
     "collapsed": false,
     "input": [
      "(u, pvalue) = sp.stats.mannwhitneyu(non_fogy_days[\"ENTRIESn_hourly\"],\n",
      "                                       fogy_days[\"ENTRIESn_hourly\"])\n",
      "print \"entries on non fogy days: %s\" % non_fogy_days[\"ENTRIESn_hourly\"].median()\n",
      "print \"entries on fogy days: %s\" % fogy_days[\"ENTRIESn_hourly\"].median()\n",
      "print \"p-value of test statistic: %.4f\" % (pvalue * 2, )"
     ],
     "language": "python",
     "metadata": {},
     "outputs": [
      {
       "output_type": "stream",
       "stream": "stdout",
       "text": [
        "entries on non fogy days: 276.0\n",
        "entries on fogy days: 297.0\n",
        "p-value of test statistic: 0.0000\n"
       ]
      }
     ],
     "prompt_number": 82
    },
    {
     "cell_type": "markdown",
     "metadata": {},
     "source": [
      "Seems that more as rain fog stimulates people to use the subway. But a p-value of _0.0000_ ... ?"
     ]
    },
    {
     "cell_type": "markdown",
     "metadata": {},
     "source": [
      "### Temperature\n",
      "I do a last try with the tempereature. Unlike the two conditions before we have distinct values for every day. \n",
      "I will take the average of the _meantempi_ as a threshold. And if temperatures below and above have influence. "
     ]
    },
    {
     "cell_type": "code",
     "collapsed": false,
     "input": [
      "data['meantempi'].describe()"
     ],
     "language": "python",
     "metadata": {},
     "outputs": [
      {
       "metadata": {},
       "output_type": "pyout",
       "prompt_number": 92,
       "text": [
        "count    131951.000000\n",
        "mean         64.269729\n",
        "std           6.568289\n",
        "min          55.000000\n",
        "25%          60.000000\n",
        "50%          63.000000\n",
        "75%          68.000000\n",
        "max          78.000000\n",
        "dtype: float64"
       ]
      }
     ],
     "prompt_number": 92
    },
    {
     "cell_type": "code",
     "collapsed": false,
     "input": [
      "data[['ENTRIESn_hourly', 'EXITSn_hourly', 'meantempi']].groupby(data.meantempi > 64).hist()"
     ],
     "language": "python",
     "metadata": {},
     "outputs": [
      {
       "metadata": {},
       "output_type": "pyout",
       "prompt_number": 96,
       "text": [
        "meantempi\n",
        "False        [[Axes(0.125,0.125;0.336957x0.775), Axes(0.563...\n",
        "True         [[Axes(0.125,0.125;0.336957x0.775), Axes(0.563...\n",
        "dtype: object"
       ]
      },
      {
       "metadata": {},
       "output_type": "display_data",
       "png": "[encoded data removed]",
       "text": [
        "<matplotlib.figure.Figure at 0xe6c1e90>"
       ]
      },
      {
       "metadata": {},
       "output_type": "display_data",
       "png": "[encoded data removed]",
       "text": [
        "<matplotlib.figure.Figure at 0x113d2750>"
       ]
      }
     ],
     "prompt_number": 96
    },
    {
     "cell_type": "code",
     "collapsed": false,
     "input": [
      "data[['ENTRIESn_hourly', 'EXITSn_hourly', 'meantempi']].groupby(data.meantempi > 64).describe()"
     ],
     "language": "python",
     "metadata": {},
     "outputs": [
      {
       "html": [
        "<div style=\"max-height:1000px;max-width:1500px;overflow:auto;\">\n",
        "<table border=\"1\" class=\"dataframe\">\n",
        "  <thead>\n",
        "    <tr style=\"text-align: right;\">\n",
        "      <th></th>\n",
        "      <th></th>\n",
        "      <th>ENTRIESn_hourly</th>\n",
        "      <th>EXITSn_hourly</th>\n",
        "    </tr>\n",
        "    <tr>\n",
        "      <th>meantempi</th>\n",
        "      <th></th>\n",
        "      <th></th>\n",
        "      <th></th>\n",
        "    </tr>\n",
        "  </thead>\n",
        "  <tbody>\n",
        "    <tr>\n",
        "      <th rowspan=\"8\" valign=\"top\">False</th>\n",
        "      <th>count</th>\n",
        "      <td> 88064.000000</td>\n",
        "      <td> 88064.000000</td>\n",
        "    </tr>\n",
        "    <tr>\n",
        "      <th>mean</th>\n",
        "      <td>  1105.484500</td>\n",
        "      <td>   894.005734</td>\n",
        "    </tr>\n",
        "    <tr>\n",
        "      <th>std</th>\n",
        "      <td>  2356.766793</td>\n",
        "      <td>  2019.274594</td>\n",
        "    </tr>\n",
        "    <tr>\n",
        "      <th>min</th>\n",
        "      <td>     0.000000</td>\n",
        "      <td>     0.000000</td>\n",
        "    </tr>\n",
        "    <tr>\n",
        "      <th>25%</th>\n",
        "      <td>    38.000000</td>\n",
        "      <td>    31.000000</td>\n",
        "    </tr>\n",
        "    <tr>\n",
        "      <th>50%</th>\n",
        "      <td>   278.000000</td>\n",
        "      <td>   233.000000</td>\n",
        "    </tr>\n",
        "    <tr>\n",
        "      <th>75%</th>\n",
        "      <td>  1118.000000</td>\n",
        "      <td>   853.000000</td>\n",
        "    </tr>\n",
        "    <tr>\n",
        "      <th>max</th>\n",
        "      <td> 43199.000000</td>\n",
        "      <td> 43033.000000</td>\n",
        "    </tr>\n",
        "    <tr>\n",
        "      <th rowspan=\"8\" valign=\"top\">True </th>\n",
        "      <th>count</th>\n",
        "      <td> 43887.000000</td>\n",
        "      <td> 43887.000000</td>\n",
        "    </tr>\n",
        "    <tr>\n",
        "      <th>mean</th>\n",
        "      <td>  1075.009456</td>\n",
        "      <td>   872.614031</td>\n",
        "    </tr>\n",
        "    <tr>\n",
        "      <th>std</th>\n",
        "      <td>  2296.761562</td>\n",
        "      <td>  1986.968178</td>\n",
        "    </tr>\n",
        "    <tr>\n",
        "      <th>min</th>\n",
        "      <td>     0.000000</td>\n",
        "      <td>     0.000000</td>\n",
        "    </tr>\n",
        "    <tr>\n",
        "      <th>25%</th>\n",
        "      <td>    41.000000</td>\n",
        "      <td>    34.000000</td>\n",
        "    </tr>\n",
        "    <tr>\n",
        "      <th>50%</th>\n",
        "      <td>   282.000000</td>\n",
        "      <td>   231.000000</td>\n",
        "    </tr>\n",
        "    <tr>\n",
        "      <th>75%</th>\n",
        "      <td>  1089.000000</td>\n",
        "      <td>   833.000000</td>\n",
        "    </tr>\n",
        "    <tr>\n",
        "      <th>max</th>\n",
        "      <td> 51839.000000</td>\n",
        "      <td> 45249.000000</td>\n",
        "    </tr>\n",
        "  </tbody>\n",
        "</table>\n",
        "</div>"
       ],
       "metadata": {},
       "output_type": "pyout",
       "prompt_number": 99,
       "text": [
        "                 ENTRIESn_hourly  EXITSn_hourly\n",
        "meantempi                                      \n",
        "False     count     88064.000000   88064.000000\n",
        "          mean       1105.484500     894.005734\n",
        "          std        2356.766793    2019.274594\n",
        "          min           0.000000       0.000000\n",
        "          25%          38.000000      31.000000\n",
        "          50%         278.000000     233.000000\n",
        "          75%        1118.000000     853.000000\n",
        "          max       43199.000000   43033.000000\n",
        "True      count     43887.000000   43887.000000\n",
        "          mean       1075.009456     872.614031\n",
        "          std        2296.761562    1986.968178\n",
        "          min           0.000000       0.000000\n",
        "          25%          41.000000      34.000000\n",
        "          50%         282.000000     231.000000\n",
        "          75%        1089.000000     833.000000\n",
        "          max       51839.000000   45249.000000"
       ]
      }
     ],
     "prompt_number": 99
    },
    {
     "cell_type": "code",
     "collapsed": false,
     "input": [
      "low_temp_days = data[data.meantempi < 64]"
     ],
     "language": "python",
     "metadata": {},
     "outputs": [],
     "prompt_number": 100
    },
    {
     "cell_type": "code",
     "collapsed": false,
     "input": [
      "low_temp_days[['ENTRIESn_hourly']].hist()"
     ],
     "language": "python",
     "metadata": {},
     "outputs": [
      {
       "metadata": {},
       "output_type": "pyout",
       "prompt_number": 101,
       "text": [
        "array([[<matplotlib.axes.AxesSubplot object at 0xe799a10>]], dtype=object)"
       ]
      },
      {
       "metadata": {},
       "output_type": "display_data",
       "png": "[encoded data removed]",
       "text": [
        "<matplotlib.figure.Figure at 0xe8cdc50>"
       ]
      }
     ],
     "prompt_number": 101
    },
    {
     "cell_type": "code",
     "collapsed": false,
     "input": [
      "high_temp_days = data[data.meantempi > 64]"
     ],
     "language": "python",
     "metadata": {},
     "outputs": [],
     "prompt_number": 102
    },
    {
     "cell_type": "code",
     "collapsed": false,
     "input": [
      "high_temp_days[['ENTRIESn_hourly']].hist()"
     ],
     "language": "python",
     "metadata": {},
     "outputs": [
      {
       "metadata": {},
       "output_type": "pyout",
       "prompt_number": 103,
       "text": [
        "array([[<matplotlib.axes.AxesSubplot object at 0x11376b10>]], dtype=object)"
       ]
      },
      {
       "metadata": {},
       "output_type": "display_data",
       "png": "[encoded data removed]",
       "text": [
        "<matplotlib.figure.Figure at 0xae6c410>"
       ]
      }
     ],
     "prompt_number": 103
    },
    {
     "cell_type": "code",
     "collapsed": false,
     "input": [
      "(u, pvalue) = sp.stats.mannwhitneyu(low_temp_days[\"ENTRIESn_hourly\"],\n",
      "                                       high_temp_days[\"ENTRIESn_hourly\"])\n",
      "print \"entries on cold days: %s\" % low_temp_days[\"ENTRIESn_hourly\"].median()\n",
      "print \"entries on warm days: %s\" % high_temp_days[\"ENTRIESn_hourly\"].median()\n",
      "print \"p-value of test statistic: %.4f\" % (pvalue * 2, )"
     ],
     "language": "python",
     "metadata": {},
     "outputs": [
      {
       "output_type": "stream",
       "stream": "stdout",
       "text": [
        "entries on cold days: 285.0\n",
        "entries on warm days: 282.0\n",
        "p-value of test statistic: 0.2496\n"
       ]
      }
     ],
     "prompt_number": 104
    },
    {
     "cell_type": "markdown",
     "metadata": {},
     "source": [
      "What a pitty! Temperature has no influence on subway using. But wait! The p-value is too high. 0.249 means round about a quarter that is a random result :-(."
     ]
    },
    {
     "cell_type": "markdown",
     "metadata": {},
     "source": [
      "Another attempt: What's with __heavy rain?__ I saw a outlier roughly at 2.0 inches. Will check whehter heavy rain flush people in the subway. My threshold is 1.5."
     ]
    },
    {
     "cell_type": "code",
     "collapsed": false,
     "input": [
      "data[['precipi']].hist()"
     ],
     "language": "python",
     "metadata": {},
     "outputs": [
      {
       "metadata": {},
       "output_type": "pyout",
       "prompt_number": 107,
       "text": [
        "array([[<matplotlib.axes.AxesSubplot object at 0x113f8f90>]], dtype=object)"
       ]
      },
      {
       "metadata": {},
       "output_type": "display_data",
       "png": "[encoded data removed]",
       "text": [
        "<matplotlib.figure.Figure at 0x11344510>"
       ]
      }
     ],
     "prompt_number": 107
    },
    {
     "cell_type": "code",
     "collapsed": false,
     "input": [
      "data[['ENTRIESn_hourly', 'EXITSn_hourly', 'precipi']].groupby(data.precipi > 1.5).describe()"
     ],
     "language": "python",
     "metadata": {},
     "outputs": [
      {
       "html": [
        "<div style=\"max-height:1000px;max-width:1500px;overflow:auto;\">\n",
        "<table border=\"1\" class=\"dataframe\">\n",
        "  <thead>\n",
        "    <tr style=\"text-align: right;\">\n",
        "      <th></th>\n",
        "      <th></th>\n",
        "      <th>ENTRIESn_hourly</th>\n",
        "      <th>EXITSn_hourly</th>\n",
        "    </tr>\n",
        "    <tr>\n",
        "      <th>precipi</th>\n",
        "      <th></th>\n",
        "      <th></th>\n",
        "      <th></th>\n",
        "    </tr>\n",
        "  </thead>\n",
        "  <tbody>\n",
        "    <tr>\n",
        "      <th rowspan=\"8\" valign=\"top\">False</th>\n",
        "      <th>count</th>\n",
        "      <td> 127565.000000</td>\n",
        "      <td> 127565.000000</td>\n",
        "    </tr>\n",
        "    <tr>\n",
        "      <th>mean</th>\n",
        "      <td>   1087.024623</td>\n",
        "      <td>    880.528789</td>\n",
        "    </tr>\n",
        "    <tr>\n",
        "      <th>std</th>\n",
        "      <td>   2320.488964</td>\n",
        "      <td>   1995.564531</td>\n",
        "    </tr>\n",
        "    <tr>\n",
        "      <th>min</th>\n",
        "      <td>      0.000000</td>\n",
        "      <td>      0.000000</td>\n",
        "    </tr>\n",
        "    <tr>\n",
        "      <th>25%</th>\n",
        "      <td>     39.000000</td>\n",
        "      <td>     31.000000</td>\n",
        "    </tr>\n",
        "    <tr>\n",
        "      <th>50%</th>\n",
        "      <td>    277.000000</td>\n",
        "      <td>    230.000000</td>\n",
        "    </tr>\n",
        "    <tr>\n",
        "      <th>75%</th>\n",
        "      <td>   1101.000000</td>\n",
        "      <td>    840.000000</td>\n",
        "    </tr>\n",
        "    <tr>\n",
        "      <th>max</th>\n",
        "      <td>  51839.000000</td>\n",
        "      <td>  45249.000000</td>\n",
        "    </tr>\n",
        "    <tr>\n",
        "      <th rowspan=\"8\" valign=\"top\">True </th>\n",
        "      <th>count</th>\n",
        "      <td>   4386.000000</td>\n",
        "      <td>   4386.000000</td>\n",
        "    </tr>\n",
        "    <tr>\n",
        "      <th>mean</th>\n",
        "      <td>   1337.444368</td>\n",
        "      <td>   1071.928409</td>\n",
        "    </tr>\n",
        "    <tr>\n",
        "      <th>std</th>\n",
        "      <td>   2764.315530</td>\n",
        "      <td>   2349.254889</td>\n",
        "    </tr>\n",
        "    <tr>\n",
        "      <th>min</th>\n",
        "      <td>      0.000000</td>\n",
        "      <td>      0.000000</td>\n",
        "    </tr>\n",
        "    <tr>\n",
        "      <th>25%</th>\n",
        "      <td>     49.000000</td>\n",
        "      <td>     47.000000</td>\n",
        "    </tr>\n",
        "    <tr>\n",
        "      <th>50%</th>\n",
        "      <td>    356.000000</td>\n",
        "      <td>    300.000000</td>\n",
        "    </tr>\n",
        "    <tr>\n",
        "      <th>75%</th>\n",
        "      <td>   1361.000000</td>\n",
        "      <td>   1029.750000</td>\n",
        "    </tr>\n",
        "    <tr>\n",
        "      <th>max</th>\n",
        "      <td>  37945.000000</td>\n",
        "      <td>  41503.000000</td>\n",
        "    </tr>\n",
        "  </tbody>\n",
        "</table>\n",
        "</div>"
       ],
       "metadata": {},
       "output_type": "pyout",
       "prompt_number": 110,
       "text": [
        "               ENTRIESn_hourly  EXITSn_hourly\n",
        "precipi                                      \n",
        "False   count    127565.000000  127565.000000\n",
        "        mean       1087.024623     880.528789\n",
        "        std        2320.488964    1995.564531\n",
        "        min           0.000000       0.000000\n",
        "        25%          39.000000      31.000000\n",
        "        50%         277.000000     230.000000\n",
        "        75%        1101.000000     840.000000\n",
        "        max       51839.000000   45249.000000\n",
        "True    count      4386.000000    4386.000000\n",
        "        mean       1337.444368    1071.928409\n",
        "        std        2764.315530    2349.254889\n",
        "        min           0.000000       0.000000\n",
        "        25%          49.000000      47.000000\n",
        "        50%         356.000000     300.000000\n",
        "        75%        1361.000000    1029.750000\n",
        "        max       37945.000000   41503.000000"
       ]
      }
     ],
     "prompt_number": 110
    },
    {
     "cell_type": "code",
     "collapsed": false,
     "input": [
      "light_rain = data[data.precipi < 1.5]"
     ],
     "language": "python",
     "metadata": {},
     "outputs": [],
     "prompt_number": 113
    },
    {
     "cell_type": "code",
     "collapsed": false,
     "input": [
      "light_rain[['ENTRIESn_hourly']].hist()"
     ],
     "language": "python",
     "metadata": {},
     "outputs": [
      {
       "metadata": {},
       "output_type": "pyout",
       "prompt_number": 114,
       "text": [
        "array([[<matplotlib.axes.AxesSubplot object at 0x119ccf10>]], dtype=object)"
       ]
      },
      {
       "metadata": {},
       "output_type": "display_data",
       "png": "[encoded data removed]",
       "text": [
        "<matplotlib.figure.Figure at 0xc2c32d0>"
       ]
      }
     ],
     "prompt_number": 114
    },
    {
     "cell_type": "code",
     "collapsed": false,
     "input": [
      "heavy_rain = data[data.precipi > 1.5]"
     ],
     "language": "python",
     "metadata": {},
     "outputs": [],
     "prompt_number": 115
    },
    {
     "cell_type": "code",
     "collapsed": false,
     "input": [
      "heavy_rain[['ENTRIESn_hourly']].hist()"
     ],
     "language": "python",
     "metadata": {},
     "outputs": [
      {
       "metadata": {},
       "output_type": "pyout",
       "prompt_number": 116,
       "text": [
        "array([[<matplotlib.axes.AxesSubplot object at 0x1364add0>]], dtype=object)"
       ]
      },
      {
       "metadata": {},
       "output_type": "display_data",
       "png": "[encoded data removed]",
       "text": [
        "<matplotlib.figure.Figure at 0x28c7c90>"
       ]
      }
     ],
     "prompt_number": 116
    },
    {
     "cell_type": "code",
     "collapsed": false,
     "input": [
      "(u, pvalue) = sp.stats.mannwhitneyu(light_rain[\"ENTRIESn_hourly\"],\n",
      "                                       heavy_rain[\"ENTRIESn_hourly\"])\n",
      "print \"entries with light rain: %s\" % light_rain[\"ENTRIESn_hourly\"].median()\n",
      "print \"entries with heavy rain: %s\" % heavy_rain[\"ENTRIESn_hourly\"].median()\n",
      "print \"p-value of test statistic: %.4f\" % (pvalue * 2, )"
     ],
     "language": "python",
     "metadata": {},
     "outputs": [
      {
       "output_type": "stream",
       "stream": "stdout",
       "text": [
        "entries with light rain: 277.0\n",
        "entries with heavy rain: 356.0\n",
        "p-value of test statistic: 0.0000\n"
       ]
      }
     ],
     "prompt_number": 117
    },
    {
     "cell_type": "markdown",
     "metadata": {},
     "source": [
      "__Not so bad!__ I would say. Strong rain sweeps the streets. Or I can't use thise kind of outlier."
     ]
    },
    {
     "cell_type": "markdown",
     "metadata": {},
     "source": [
      "### A Remark:\n",
      "I'm focused on the weather conditions but we have more influance factors like the weeksdays and hour of the days. Of course Sunday morning at 6 am nearly nobody will use subway. We have more than one dependent variable. Keep that in mind!"
     ]
    },
    {
     "cell_type": "markdown",
     "metadata": {},
     "source": [
      "## Predictions\n",
      "Can we do some predictions like: rain precipitation at 3 or vice versa how munch rain do I need to sweep the streets emtpy?"
     ]
    },
    {
     "cell_type": "code",
     "collapsed": false,
     "input": [],
     "language": "python",
     "metadata": {},
     "outputs": []
    }
   ],
   "metadata": {}
  }
 ]
}