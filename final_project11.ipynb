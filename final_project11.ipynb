{
 "metadata": {
  "name": "",
  "signature": "sha256:aa802a778e76fc25995a9f3bc62af5b4d1581a5b6da24d12f9fc266caeca0075"
 },
 "nbformat": 3,
 "nbformat_minor": 0,
 "worksheets": [
  {
   "cells": [
    {
     "cell_type": "code",
     "collapsed": false,
     "input": [
      "import pandas as pd"
     ],
     "language": "python",
     "metadata": {},
     "outputs": [],
     "prompt_number": 1
    },
    {
     "cell_type": "code",
     "collapsed": false,
     "input": [
      "import numpy as np"
     ],
     "language": "python",
     "metadata": {},
     "outputs": [],
     "prompt_number": 2
    },
    {
     "cell_type": "code",
     "collapsed": false,
     "input": [
      "import matplotlib as plt"
     ],
     "language": "python",
     "metadata": {},
     "outputs": [],
     "prompt_number": 3
    },
    {
     "cell_type": "code",
     "collapsed": false,
     "input": [
      "%pylab inline"
     ],
     "language": "python",
     "metadata": {},
     "outputs": [
      {
       "output_type": "stream",
       "stream": "stdout",
       "text": [
        "Populating the interactive namespace from numpy and matplotlib\n"
       ]
      },
      {
       "output_type": "stream",
       "stream": "stderr",
       "text": [
        "WARNING: pylab import has clobbered these variables: ['plt']\n",
        "`%matplotlib` prevents importing * from pylab and numpy\n"
       ]
      }
     ],
     "prompt_number": 4
    },
    {
     "cell_type": "code",
     "collapsed": false,
     "input": [
      "data = pd.read_csv('turnstile_data_master_with_weather.csv', index_col = 2)"
     ],
     "language": "python",
     "metadata": {},
     "outputs": [],
     "prompt_number": 5
    },
    {
     "cell_type": "code",
     "collapsed": false,
     "input": [
      "data.head()"
     ],
     "language": "python",
     "metadata": {},
     "outputs": [
      {
       "html": [
        "<div style=\"max-height:1000px;max-width:1500px;overflow:auto;\">\n",
        "<table border=\"1\" class=\"dataframe\">\n",
        "  <thead>\n",
        "    <tr style=\"text-align: right;\">\n",
        "      <th></th>\n",
        "      <th>Unnamed: 0</th>\n",
        "      <th>UNIT</th>\n",
        "      <th>TIMEn</th>\n",
        "      <th>Hour</th>\n",
        "      <th>DESCn</th>\n",
        "      <th>ENTRIESn_hourly</th>\n",
        "      <th>EXITSn_hourly</th>\n",
        "      <th>maxpressurei</th>\n",
        "      <th>maxdewpti</th>\n",
        "      <th>mindewpti</th>\n",
        "      <th>...</th>\n",
        "      <th>meandewpti</th>\n",
        "      <th>meanpressurei</th>\n",
        "      <th>fog</th>\n",
        "      <th>rain</th>\n",
        "      <th>meanwindspdi</th>\n",
        "      <th>mintempi</th>\n",
        "      <th>meantempi</th>\n",
        "      <th>maxtempi</th>\n",
        "      <th>precipi</th>\n",
        "      <th>thunder</th>\n",
        "    </tr>\n",
        "    <tr>\n",
        "      <th>DATEn</th>\n",
        "      <th></th>\n",
        "      <th></th>\n",
        "      <th></th>\n",
        "      <th></th>\n",
        "      <th></th>\n",
        "      <th></th>\n",
        "      <th></th>\n",
        "      <th></th>\n",
        "      <th></th>\n",
        "      <th></th>\n",
        "      <th></th>\n",
        "      <th></th>\n",
        "      <th></th>\n",
        "      <th></th>\n",
        "      <th></th>\n",
        "      <th></th>\n",
        "      <th></th>\n",
        "      <th></th>\n",
        "      <th></th>\n",
        "      <th></th>\n",
        "      <th></th>\n",
        "    </tr>\n",
        "  </thead>\n",
        "  <tbody>\n",
        "    <tr>\n",
        "      <th>2011-05-01</th>\n",
        "      <td> 0</td>\n",
        "      <td> R001</td>\n",
        "      <td> 01:00:00</td>\n",
        "      <td>  1</td>\n",
        "      <td> REGULAR</td>\n",
        "      <td>    0</td>\n",
        "      <td>    0</td>\n",
        "      <td> 30.31</td>\n",
        "      <td> 42</td>\n",
        "      <td> 35</td>\n",
        "      <td>...</td>\n",
        "      <td> 39</td>\n",
        "      <td> 30.27</td>\n",
        "      <td> 0</td>\n",
        "      <td> 0</td>\n",
        "      <td> 5</td>\n",
        "      <td> 50</td>\n",
        "      <td> 60</td>\n",
        "      <td> 69</td>\n",
        "      <td> 0</td>\n",
        "      <td> 0</td>\n",
        "    </tr>\n",
        "    <tr>\n",
        "      <th>2011-05-01</th>\n",
        "      <td> 1</td>\n",
        "      <td> R001</td>\n",
        "      <td> 05:00:00</td>\n",
        "      <td>  5</td>\n",
        "      <td> REGULAR</td>\n",
        "      <td>  217</td>\n",
        "      <td>  553</td>\n",
        "      <td> 30.31</td>\n",
        "      <td> 42</td>\n",
        "      <td> 35</td>\n",
        "      <td>...</td>\n",
        "      <td> 39</td>\n",
        "      <td> 30.27</td>\n",
        "      <td> 0</td>\n",
        "      <td> 0</td>\n",
        "      <td> 5</td>\n",
        "      <td> 50</td>\n",
        "      <td> 60</td>\n",
        "      <td> 69</td>\n",
        "      <td> 0</td>\n",
        "      <td> 0</td>\n",
        "    </tr>\n",
        "    <tr>\n",
        "      <th>2011-05-01</th>\n",
        "      <td> 2</td>\n",
        "      <td> R001</td>\n",
        "      <td> 09:00:00</td>\n",
        "      <td>  9</td>\n",
        "      <td> REGULAR</td>\n",
        "      <td>  890</td>\n",
        "      <td> 1262</td>\n",
        "      <td> 30.31</td>\n",
        "      <td> 42</td>\n",
        "      <td> 35</td>\n",
        "      <td>...</td>\n",
        "      <td> 39</td>\n",
        "      <td> 30.27</td>\n",
        "      <td> 0</td>\n",
        "      <td> 0</td>\n",
        "      <td> 5</td>\n",
        "      <td> 50</td>\n",
        "      <td> 60</td>\n",
        "      <td> 69</td>\n",
        "      <td> 0</td>\n",
        "      <td> 0</td>\n",
        "    </tr>\n",
        "    <tr>\n",
        "      <th>2011-05-01</th>\n",
        "      <td> 3</td>\n",
        "      <td> R001</td>\n",
        "      <td> 13:00:00</td>\n",
        "      <td> 13</td>\n",
        "      <td> REGULAR</td>\n",
        "      <td> 2451</td>\n",
        "      <td> 3708</td>\n",
        "      <td> 30.31</td>\n",
        "      <td> 42</td>\n",
        "      <td> 35</td>\n",
        "      <td>...</td>\n",
        "      <td> 39</td>\n",
        "      <td> 30.27</td>\n",
        "      <td> 0</td>\n",
        "      <td> 0</td>\n",
        "      <td> 5</td>\n",
        "      <td> 50</td>\n",
        "      <td> 60</td>\n",
        "      <td> 69</td>\n",
        "      <td> 0</td>\n",
        "      <td> 0</td>\n",
        "    </tr>\n",
        "    <tr>\n",
        "      <th>2011-05-01</th>\n",
        "      <td> 4</td>\n",
        "      <td> R001</td>\n",
        "      <td> 17:00:00</td>\n",
        "      <td> 17</td>\n",
        "      <td> REGULAR</td>\n",
        "      <td> 4400</td>\n",
        "      <td> 2501</td>\n",
        "      <td> 30.31</td>\n",
        "      <td> 42</td>\n",
        "      <td> 35</td>\n",
        "      <td>...</td>\n",
        "      <td> 39</td>\n",
        "      <td> 30.27</td>\n",
        "      <td> 0</td>\n",
        "      <td> 0</td>\n",
        "      <td> 5</td>\n",
        "      <td> 50</td>\n",
        "      <td> 60</td>\n",
        "      <td> 69</td>\n",
        "      <td> 0</td>\n",
        "      <td> 0</td>\n",
        "    </tr>\n",
        "  </tbody>\n",
        "</table>\n",
        "<p>5 rows \u00d7 21 columns</p>\n",
        "</div>"
       ],
       "metadata": {},
       "output_type": "pyout",
       "prompt_number": 6,
       "text": [
        "            Unnamed: 0  UNIT     TIMEn  Hour    DESCn  ENTRIESn_hourly  \\\n",
        "DATEn                                                                    \n",
        "2011-05-01           0  R001  01:00:00     1  REGULAR                0   \n",
        "2011-05-01           1  R001  05:00:00     5  REGULAR              217   \n",
        "2011-05-01           2  R001  09:00:00     9  REGULAR              890   \n",
        "2011-05-01           3  R001  13:00:00    13  REGULAR             2451   \n",
        "2011-05-01           4  R001  17:00:00    17  REGULAR             4400   \n",
        "\n",
        "            EXITSn_hourly  maxpressurei  maxdewpti  mindewpti    ...      \\\n",
        "DATEn                                                            ...       \n",
        "2011-05-01              0         30.31         42         35    ...       \n",
        "2011-05-01            553         30.31         42         35    ...       \n",
        "2011-05-01           1262         30.31         42         35    ...       \n",
        "2011-05-01           3708         30.31         42         35    ...       \n",
        "2011-05-01           2501         30.31         42         35    ...       \n",
        "\n",
        "            meandewpti  meanpressurei  fog  rain  meanwindspdi  mintempi  \\\n",
        "DATEn                                                                      \n",
        "2011-05-01          39          30.27    0     0             5        50   \n",
        "2011-05-01          39          30.27    0     0             5        50   \n",
        "2011-05-01          39          30.27    0     0             5        50   \n",
        "2011-05-01          39          30.27    0     0             5        50   \n",
        "2011-05-01          39          30.27    0     0             5        50   \n",
        "\n",
        "            meantempi  maxtempi  precipi  thunder  \n",
        "DATEn                                              \n",
        "2011-05-01         60        69        0        0  \n",
        "2011-05-01         60        69        0        0  \n",
        "2011-05-01         60        69        0        0  \n",
        "2011-05-01         60        69        0        0  \n",
        "2011-05-01         60        69        0        0  \n",
        "\n",
        "[5 rows x 21 columns]"
       ]
      }
     ],
     "prompt_number": 6
    },
    {
     "cell_type": "code",
     "collapsed": false,
     "input": [
      "rain = pd.DataFrame(data[['rain', 'ENTRIESn_hourly', 'EXITSn_hourly']])"
     ],
     "language": "python",
     "metadata": {},
     "outputs": [],
     "prompt_number": 7
    },
    {
     "cell_type": "code",
     "collapsed": false,
     "input": [
      "type(rain)"
     ],
     "language": "python",
     "metadata": {},
     "outputs": [
      {
       "metadata": {},
       "output_type": "pyout",
       "prompt_number": 8,
       "text": [
        "pandas.core.frame.DataFrame"
       ]
      }
     ],
     "prompt_number": 8
    },
    {
     "cell_type": "code",
     "collapsed": false,
     "input": [
      "rain_mask = (rain.rain == 1)"
     ],
     "language": "python",
     "metadata": {},
     "outputs": [],
     "prompt_number": 9
    },
    {
     "cell_type": "code",
     "collapsed": false,
     "input": [
      "rainy = rain[rain_mask]"
     ],
     "language": "python",
     "metadata": {},
     "outputs": [],
     "prompt_number": 11
    },
    {
     "cell_type": "code",
     "collapsed": false,
     "input": [
      "rainy.plot(rot = 90); show ()"
     ],
     "language": "python",
     "metadata": {},
     "outputs": [
      {
       "metadata": {},
       "output_type": "display_data",
       "png": "[encoded data removed]",
       "text": [
        "<matplotlib.figure.Figure at 0x451c7d0>"
       ]
      }
     ],
     "prompt_number": 13
    },
    {
     "cell_type": "raw",
     "metadata": {},
     "source": []
    }
   ],
   "metadata": {}
  }
 ]
}