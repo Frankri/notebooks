{
 "metadata": {
  "name": "",
  "signature": "sha256:b9128ab4664715236b57809cc435927316231e6e715e11cca8b8fa3fa806758b"
 },
 "nbformat": 3,
 "nbformat_minor": 0,
 "worksheets": [
  {
   "cells": [
    {
     "cell_type": "code",
     "collapsed": false,
     "input": [
      "ls "
     ],
     "language": "python",
     "metadata": {},
     "outputs": [
      {
       "output_type": "stream",
       "stream": "stdout",
       "text": [
        "\u001b[0m\u001b[01;34mbitbucket\u001b[0m/               panda-results.txt\r\n",
        "\u001b[01;36mbuild\u001b[0m@                   \u001b[01;34mPictures\u001b[0m/\r\n",
        "CD Drive - Shortcut.lnk  \u001b[01;34mPublic\u001b[0m/\r\n",
        "\u001b[01;34mcsl-dashboard\u001b[0m/           \u001b[01;34mpython\u001b[0m/\r\n",
        "CY-Data.ipynb            \u001b[01;34msite-C\u001b[0m/\r\n",
        "\u001b[01;34mdashbord-old\u001b[0m/            \u001b[01;36msources\u001b[0m@\r\n",
        "\u001b[01;34mData\u001b[0m/                    \u001b[01;32mstart-vnc\u001b[0m*\r\n",
        "\u001b[01;34mDesktop\u001b[0m/                 \u001b[01;32mstart-vnc~\u001b[0m*\r\n",
        "\u001b[01;34mDocuments\u001b[0m/               \u001b[01;34mTemplates\u001b[0m/\r\n",
        "\u001b[01;34mDownloads\u001b[0m/               testtext.pdf\r\n",
        "\u001b[01;34mintern-scripts\u001b[0m/          turnstile_data_master_with_weather.csv\r\n",
        "\u001b[01;34mmy_env\u001b[0m/                  Untitled0.ipynb\r\n",
        "nohup.out                Untitled1.ipynb\r\n",
        "\u001b[01;34mnotes\u001b[0m/                   \u001b[01;34mv-july\u001b[0m/\r\n",
        "\u001b[01;34mOreilly\u001b[0m/\r\n",
        "\u001b[m"
       ]
      }
     ],
     "prompt_number": 1
    },
    {
     "cell_type": "code",
     "collapsed": false,
     "input": [
      "cd intern-scripts/"
     ],
     "language": "python",
     "metadata": {},
     "outputs": [
      {
       "output_type": "stream",
       "stream": "stdout",
       "text": [
        "/data/home/frickert/intern-scripts\n"
       ]
      }
     ],
     "prompt_number": 2
    },
    {
     "cell_type": "code",
     "collapsed": false,
     "input": [
      "ls"
     ],
     "language": "python",
     "metadata": {},
     "outputs": [
      {
       "output_type": "stream",
       "stream": "stdout",
       "text": [
        "recent-words.py   search-result.txt      transferlog_search.py~\r\n",
        "recent-words.py~  transferlog_search.py\r\n"
       ]
      }
     ],
     "prompt_number": 3
    },
    {
     "cell_type": "code",
     "collapsed": false,
     "input": [
      "import pandas as pd"
     ],
     "language": "python",
     "metadata": {},
     "outputs": [],
     "prompt_number": 4
    },
    {
     "cell_type": "markdown",
     "metadata": {},
     "source": [
      "run transferlog_search.py"
     ]
    },
    {
     "cell_type": "code",
     "collapsed": false,
     "input": [
      "ls -l"
     ],
     "language": "python",
     "metadata": {},
     "outputs": [
      {
       "output_type": "stream",
       "stream": "stdout",
       "text": [
        "total 15924\r\n",
        "drwx------  4 frickert dom\u00e4nen-benutzer     4096 May 19 14:20 \u001b[0m\u001b[01;34mbitbucket\u001b[0m/\r\n",
        "lrwxrwxrwx  1 frickert dom\u00e4nen-benutzer       20 Apr 29 11:41 \u001b[01;36mbuild\u001b[0m -> \u001b[01;34m/data/build/frickert\u001b[0m/\r\n",
        "-rw-------  1 frickert dom\u00e4nen-benutzer      328 Jul 31 15:34 CD Drive - Shortcut.lnk\r\n",
        "drwx------  5 frickert dom\u00e4nen-benutzer     4096 May 12 10:48 \u001b[01;34mcsl-dashboard\u001b[0m/\r\n",
        "-rw-r--r--  1 frickert dom\u00e4nen-benutzer    29925 Aug  8 14:12 CY-Data.ipynb\r\n",
        "drwx------ 10 frickert dom\u00e4nen-benutzer     4096 May 12 10:48 \u001b[01;34mdashbord-old\u001b[0m/\r\n",
        "drwx------  2 frickert dom\u00e4nen-benutzer     4096 Aug  7 13:41 \u001b[01;34mData\u001b[0m/\r\n",
        "drwxr-xr-x  2 frickert dom\u00e4nen-benutzer     4096 May 19 16:13 \u001b[01;34mDesktop\u001b[0m/\r\n",
        "drwxr-xr-x  2 frickert dom\u00e4nen-benutzer     4096 May 19 16:13 \u001b[01;34mDocuments\u001b[0m/\r\n",
        "drwxr-xr-x  2 frickert dom\u00e4nen-benutzer     4096 May 19 16:13 \u001b[01;34mDownloads\u001b[0m/\r\n",
        "drwx------  2 frickert dom\u00e4nen-benutzer     4096 Aug 13 13:09 \u001b[01;34mintern-scripts\u001b[0m/\r\n",
        "-rw-------  1 frickert dom\u00e4nen-benutzer    14365 Aug 12 12:30 \u001b[01;31mmarkup-1.8.tgz\u001b[0m\r\n",
        "drwxr-xr-x  3 frickert dom\u00e4nen-benutzer     4096 Oct 26  2012 \u001b[01;34mmarkup-1.9\u001b[0m/\r\n",
        "-rw-------  1 frickert dom\u00e4nen-benutzer    14865 Aug 12 12:08 \u001b[01;31mmarkup-1.9.tgz\u001b[0m\r\n",
        "-rw-------  1 frickert dom\u00e4nen-benutzer    20900 Oct 26  2012 markup.py\r\n",
        "-rw-------  1 frickert dom\u00e4nen-benutzer    21803 Aug 12 14:04 markup.pyc\r\n",
        "drwxr-xr-x  7 frickert dom\u00e4nen-benutzer     4096 Jul 16 14:10 \u001b[01;34mmy_env\u001b[0m/\r\n",
        "-rw-------  1 frickert dom\u00e4nen-benutzer      859 Aug 12 14:42 nohup.out\r\n",
        "drwx------  2 frickert dom\u00e4nen-benutzer     4096 May 12 10:48 \u001b[01;34mnotes\u001b[0m/\r\n",
        "drwx------  3 frickert dom\u00e4nen-benutzer     4096 May 12 10:48 \u001b[01;34mOreilly\u001b[0m/\r\n",
        "-rw-r--r--  1 frickert dom\u00e4nen-benutzer     3168 May 21 15:07 panda-results.txt\r\n",
        "-rw-r--r--  1 frickert dom\u00e4nen-benutzer      755 Aug 12 14:42 p-gen.html\r\n",
        "drwxr-xr-x  2 frickert dom\u00e4nen-benutzer     4096 May 19 16:13 \u001b[01;34mPictures\u001b[0m/\r\n",
        "drwxr-xr-x  2 frickert dom\u00e4nen-benutzer     4096 May 19 16:13 \u001b[01;34mPublic\u001b[0m/\r\n",
        "drwx------  3 frickert dom\u00e4nen-benutzer     4096 Jul 17 16:35 \u001b[01;34mpython\u001b[0m/\r\n",
        "-rw-------  1 frickert dom\u00e4nen-benutzer      751 Aug 12 14:45 python-html.py\r\n",
        "-rw-------  1 frickert dom\u00e4nen-benutzer      751 Aug 12 14:41 python-html.py~\r\n",
        "drwx------  3 frickert dom\u00e4nen-benutzer     4096 May 12 10:48 \u001b[01;34msite-C\u001b[0m/\r\n",
        "lrwxrwxrwx  1 frickert dom\u00e4nen-benutzer       21 Apr 29 11:41 \u001b[01;36msources\u001b[0m -> \u001b[01;34m/data/source/frickert\u001b[0m/\r\n",
        "-rwxr-xr-x  1 frickert dom\u00e4nen-benutzer       56 May 19 16:38 \u001b[01;32mstart-vnc\u001b[0m*\r\n",
        "-rwxr-xr-x  1 frickert dom\u00e4nen-benutzer       56 May 19 16:22 \u001b[01;32mstart-vnc~\u001b[0m*\r\n",
        "drwxr-xr-x  2 frickert dom\u00e4nen-benutzer     4096 May 19 16:13 \u001b[01;34mTemplates\u001b[0m/\r\n",
        "-rw-------  1 frickert dom\u00e4nen-benutzer    34496 Jan 19  2011 testtext.pdf\r\n",
        "-rw-------  1 frickert dom\u00e4nen-benutzer 15990662 Jun 11 11:55 turnstile_data_master_with_weather.csv\r\n",
        "-rw-r--r--  1 frickert dom\u00e4nen-benutzer    50710 Aug  8 15:58 Untitled0.ipynb\r\n",
        "-rw-r--r--  1 frickert dom\u00e4nen-benutzer     3059 Aug 11 11:37 Untitled1.ipynb\r\n",
        "drwx------  4 frickert dom\u00e4nen-benutzer     4096 May 12 10:47 \u001b[01;34mv-july\u001b[0m/\r\n",
        "\u001b[m"
       ]
      }
     ],
     "prompt_number": 1
    },
    {
     "cell_type": "code",
     "collapsed": false,
     "input": [
      "cd .."
     ],
     "language": "python",
     "metadata": {},
     "outputs": [
      {
       "output_type": "stream",
       "stream": "stdout",
       "text": [
        "/\n"
       ]
      }
     ],
     "prompt_number": 6
    },
    {
     "cell_type": "code",
     "collapsed": false,
     "input": [
      "ls -l"
     ],
     "language": "python",
     "metadata": {},
     "outputs": [
      {
       "output_type": "stream",
       "stream": "stdout",
       "text": [
        "total 100\r\n",
        "dr-xr-xr-x.    2 root root  4096 May 14 16:22 \u001b[0m\u001b[01;34mbin\u001b[0m/\r\n",
        "dr-xr-xr-x.    4 root root  4096 Apr 30 11:42 \u001b[01;34mboot\u001b[0m/\r\n",
        "drwxr-xr-x    10 root root  4096 May 23 14:22 \u001b[01;34mcgroup\u001b[0m/\r\n",
        "drwxr-xr-x.    7 root root  4096 Jun 23 11:33 \u001b[01;34mdata\u001b[0m/\r\n",
        "drwxr-xr-x    22 root root  4120 Aug  7 18:11 \u001b[01;34mdev\u001b[0m/\r\n",
        "drwxr-xr-x.   95 root root 12288 Jul 23 15:59 \u001b[01;34metc\u001b[0m/\r\n",
        "lrwxrwxrwx.    1 root root     9 Mar  1  2013 \u001b[01;36mhome\u001b[0m -> \u001b[01;34mdata/home\u001b[0m/\r\n",
        "dr-xr-xr-x.   11 root root  4096 Jun 16 12:55 \u001b[01;34mlib\u001b[0m/\r\n",
        "dr-xr-xr-x.    9 root root 12288 May 14 16:22 \u001b[01;34mlib64\u001b[0m/\r\n",
        "drwx------.    2 root root 16384 Mar  1  2013 \u001b[01;34mlost+found\u001b[0m/\r\n",
        "drwxr-xr-x.    2 root root  4096 Jul 20  2011 \u001b[01;34mmedia\u001b[0m/\r\n",
        "drwxr-xr-x.    2 root root  4096 Jul 20  2011 \u001b[01;34mmnt\u001b[0m/\r\n",
        "drwxr-xr-x.    8 root root  4096 May  8 12:28 \u001b[01;34mopt\u001b[0m/\r\n",
        "dr-xr-xr-x  1065 root root     0 Mar  1  2013 \u001b[01;34mproc\u001b[0m/\r\n",
        "dr-xr-x---.   12 root root  4096 Jul 21 10:34 \u001b[01;34mroot\u001b[0m/\r\n",
        "dr-xr-xr-x.    2 root root 12288 May 14 16:22 \u001b[01;34msbin\u001b[0m/\r\n",
        "drwxr-xr-x.    2 root root  4096 Mar  1  2013 \u001b[01;34mselinux\u001b[0m/\r\n",
        "drwxr-xr-x.    2 root root  4096 Jul 20  2011 \u001b[01;34msrv\u001b[0m/\r\n",
        "drwxr-xr-x    13 root root     0 Mar  1  2013 \u001b[01;34msys\u001b[0m/\r\n",
        "lrwxrwxrwx     1 root root    14 Jun 23 11:29 \u001b[01;36mtmp\u001b[0m -> \u001b[30;42mdata/build/tmp\u001b[0m/\r\n",
        "drwxr-xr-x.   15 root root  4096 Mar 18 04:05 \u001b[01;34musr\u001b[0m/\r\n",
        "lrwxrwxrwx.    1 root root     8 Mar  1  2013 \u001b[01;36mvar\u001b[0m -> \u001b[01;34mdata/var\u001b[0m/\r\n",
        "\u001b[m"
       ]
      }
     ],
     "prompt_number": 7
    },
    {
     "cell_type": "code",
     "collapsed": false,
     "input": [
      "cd ~"
     ],
     "language": "python",
     "metadata": {},
     "outputs": [
      {
       "output_type": "stream",
       "stream": "stdout",
       "text": [
        "/data/home/frickert\n"
       ]
      }
     ],
     "prompt_number": 15
    },
    {
     "cell_type": "code",
     "collapsed": false,
     "input": [
      "ls"
     ],
     "language": "python",
     "metadata": {},
     "outputs": [
      {
       "output_type": "stream",
       "stream": "stdout",
       "text": [
        "\u001b[0m\u001b[01;34mbitbucket\u001b[0m/               \u001b[01;34mOreilly\u001b[0m/\r\n",
        "\u001b[01;36mbuild\u001b[0m@                   panda-results.txt\r\n",
        "CD Drive - Shortcut.lnk  p-gen.html\r\n",
        "\u001b[01;34mcsl-dashboard\u001b[0m/           \u001b[01;34mPictures\u001b[0m/\r\n",
        "CY-Data.ipynb            \u001b[01;34mPublic\u001b[0m/\r\n",
        "\u001b[01;34mdashbord-old\u001b[0m/            \u001b[01;34mpython\u001b[0m/\r\n",
        "\u001b[01;34mData\u001b[0m/                    python-html.py\r\n",
        "\u001b[01;34mDesktop\u001b[0m/                 python-html.py~\r\n",
        "\u001b[01;34mDocuments\u001b[0m/               \u001b[01;34msite-C\u001b[0m/\r\n",
        "\u001b[01;34mDownloads\u001b[0m/               \u001b[01;36msources\u001b[0m@\r\n",
        "\u001b[01;34mintern-scripts\u001b[0m/          \u001b[01;32mstart-vnc\u001b[0m*\r\n",
        "\u001b[01;31mmarkup-1.8.tgz\u001b[0m           \u001b[01;32mstart-vnc~\u001b[0m*\r\n",
        "\u001b[01;34mmarkup-1.9\u001b[0m/              \u001b[01;34mTemplates\u001b[0m/\r\n",
        "\u001b[01;31mmarkup-1.9.tgz\u001b[0m           testtext.pdf\r\n",
        "markup.py                turnstile_data_master_with_weather.csv\r\n",
        "markup.pyc               Untitled0.ipynb\r\n",
        "\u001b[01;34mmy_env\u001b[0m/                  Untitled1.ipynb\r\n",
        "nohup.out                \u001b[01;34mv-july\u001b[0m/\r\n",
        "\u001b[01;34mnotes\u001b[0m/\r\n",
        "\u001b[m"
       ]
      }
     ],
     "prompt_number": 16
    },
    {
     "cell_type": "code",
     "collapsed": false,
     "input": [
      "cd ../../../tmp/dang.txt"
     ],
     "language": "python",
     "metadata": {},
     "outputs": [
      {
       "output_type": "stream",
       "stream": "stdout",
       "text": [
        "[Errno 20] Not a directory: '../../../tmp/dang.txt'\n",
        "/data/home/frickert\n"
       ]
      }
     ],
     "prompt_number": 17
    },
    {
     "cell_type": "code",
     "collapsed": false,
     "input": [
      "import pandas as pd"
     ],
     "language": "python",
     "metadata": {},
     "outputs": [],
     "prompt_number": 18
    },
    {
     "cell_type": "code",
     "collapsed": false,
     "input": [
      "r = pd.read_csv('../../../tmp/dang1.txt', sep=\"\\t\" )"
     ],
     "language": "python",
     "metadata": {},
     "outputs": [],
     "prompt_number": 69
    },
    {
     "cell_type": "code",
     "collapsed": false,
     "input": [
      "r"
     ],
     "language": "python",
     "metadata": {},
     "outputs": [
      {
       "html": [
        "<div style=\"max-height:1000px;max-width:1500px;overflow:auto;\">\n",
        "<table border=\"1\" class=\"dataframe\">\n",
        "  <thead>\n",
        "    <tr style=\"text-align: right;\">\n",
        "      <th></th>\n",
        "      <th>simId</th>\n",
        "      <th>simCount</th>\n",
        "      <th>firstSeen</th>\n",
        "      <th>firstOut</th>\n",
        "      <th>time2out</th>\n",
        "      <th>time2av</th>\n",
        "      <th>lastSeen</th>\n",
        "      <th>whenCertified</th>\n",
        "      <th>virusName</th>\n",
        "      <th>Unnamed: 9</th>\n",
        "    </tr>\n",
        "  </thead>\n",
        "  <tbody>\n",
        "    <tr>\n",
        "      <th>0</th>\n",
        "      <td> 4281716010</td>\n",
        "      <td>   6579</td>\n",
        "      <td> 2014-08-13 11:11:41</td>\n",
        "      <td> 2014-08-13 11:11:59</td>\n",
        "      <td> 00:00:18</td>\n",
        "      <td> 02:53:43</td>\n",
        "      <td> 2014-08-13 14:05:24</td>\n",
        "      <td> 2014-08-13 14:05:24</td>\n",
        "      <td>     TR/Injector.XEAD</td>\n",
        "      <td>NaN</td>\n",
        "    </tr>\n",
        "    <tr>\n",
        "      <th>1</th>\n",
        "      <td> 4281673360</td>\n",
        "      <td>   3714</td>\n",
        "      <td> 2014-08-13 10:31:24</td>\n",
        "      <td> 2014-08-13 10:31:29</td>\n",
        "      <td> 00:00:05</td>\n",
        "      <td> 03:34:02</td>\n",
        "      <td> 2014-08-13 14:05:26</td>\n",
        "      <td> 2014-08-13 14:05:26</td>\n",
        "      <td>     TR/Injector.XEAD</td>\n",
        "      <td>NaN</td>\n",
        "    </tr>\n",
        "    <tr>\n",
        "      <th>2</th>\n",
        "      <td> 4281358325</td>\n",
        "      <td>   7867</td>\n",
        "      <td> 2014-08-13 02:08:12</td>\n",
        "      <td> 2014-08-13 02:57:03</td>\n",
        "      <td> 00:48:51</td>\n",
        "      <td> 05:27:11</td>\n",
        "      <td> 2014-08-13 15:05:09</td>\n",
        "      <td> 2014-08-13 07:35:23</td>\n",
        "      <td>  TR/Injector.pdab.10</td>\n",
        "      <td>NaN</td>\n",
        "    </tr>\n",
        "    <tr>\n",
        "      <th>3</th>\n",
        "      <td> 4280514825</td>\n",
        "      <td>  30974</td>\n",
        "      <td> 2014-08-12 12:15:26</td>\n",
        "      <td> 2014-08-12 12:16:45</td>\n",
        "      <td> 00:01:19</td>\n",
        "      <td> 08:05:41</td>\n",
        "      <td> 2014-08-13 14:58:54</td>\n",
        "      <td> 2014-08-12 20:21:07</td>\n",
        "      <td>  TR/Dropper.VB.16104</td>\n",
        "      <td>NaN</td>\n",
        "    </tr>\n",
        "    <tr>\n",
        "      <th>4</th>\n",
        "      <td> 4280500179</td>\n",
        "      <td> 147104</td>\n",
        "      <td> 2014-08-12 12:03:04</td>\n",
        "      <td> 2014-08-12 12:03:11</td>\n",
        "      <td> 00:00:07</td>\n",
        "      <td> 05:18:51</td>\n",
        "      <td> 2014-08-13 15:29:57</td>\n",
        "      <td> 2014-08-12 17:21:55</td>\n",
        "      <td> TR/Crypt.ZPACK.66973</td>\n",
        "      <td>NaN</td>\n",
        "    </tr>\n",
        "    <tr>\n",
        "      <th>5</th>\n",
        "      <td> 4280396237</td>\n",
        "      <td>  19705</td>\n",
        "      <td> 2014-08-12 10:22:04</td>\n",
        "      <td> 2014-08-12 10:22:21</td>\n",
        "      <td> 00:00:17</td>\n",
        "      <td> 11:27:26</td>\n",
        "      <td> 2014-08-13 14:06:50</td>\n",
        "      <td> 2014-08-12 21:49:30</td>\n",
        "      <td>         TR/Small.PSD</td>\n",
        "      <td>NaN</td>\n",
        "    </tr>\n",
        "    <tr>\n",
        "      <th>6</th>\n",
        "      <td> 4280395513</td>\n",
        "      <td>  66665</td>\n",
        "      <td> 2014-08-12 10:20:46</td>\n",
        "      <td> 2014-08-12 10:20:49</td>\n",
        "      <td> 00:00:03</td>\n",
        "      <td> 08:15:12</td>\n",
        "      <td> 2014-08-13 14:43:20</td>\n",
        "      <td> 2014-08-12 18:35:58</td>\n",
        "      <td> TR/Crypt.ZPACK.66973</td>\n",
        "      <td>NaN</td>\n",
        "    </tr>\n",
        "    <tr>\n",
        "      <th>7</th>\n",
        "      <td> 4280289707</td>\n",
        "      <td> 344137</td>\n",
        "      <td> 2014-08-12 08:19:40</td>\n",
        "      <td> 2014-08-12 08:28:02</td>\n",
        "      <td> 00:08:22</td>\n",
        "      <td> 12:00:56</td>\n",
        "      <td> 2014-08-13 15:14:09</td>\n",
        "      <td> 2014-08-12 20:20:36</td>\n",
        "      <td>     TR/Gamarue.A.380</td>\n",
        "      <td>NaN</td>\n",
        "    </tr>\n",
        "    <tr>\n",
        "      <th>8</th>\n",
        "      <td> 4280152209</td>\n",
        "      <td>    337</td>\n",
        "      <td> 2014-08-12 03:56:24</td>\n",
        "      <td> 2014-08-12 04:15:25</td>\n",
        "      <td> 00:19:01</td>\n",
        "      <td> 30:29:36</td>\n",
        "      <td> 2014-08-13 14:04:06</td>\n",
        "      <td> 2014-08-13 10:26:00</td>\n",
        "      <td> TR/Injector.693760.2</td>\n",
        "      <td>NaN</td>\n",
        "    </tr>\n",
        "  </tbody>\n",
        "</table>\n",
        "</div>"
       ],
       "metadata": {},
       "output_type": "pyout",
       "prompt_number": 70,
       "text": [
        "        simId  simCount            firstSeen             firstOut  time2out  \\\n",
        "0  4281716010      6579  2014-08-13 11:11:41  2014-08-13 11:11:59  00:00:18   \n",
        "1  4281673360      3714  2014-08-13 10:31:24  2014-08-13 10:31:29  00:00:05   \n",
        "2  4281358325      7867  2014-08-13 02:08:12  2014-08-13 02:57:03  00:48:51   \n",
        "3  4280514825     30974  2014-08-12 12:15:26  2014-08-12 12:16:45  00:01:19   \n",
        "4  4280500179    147104  2014-08-12 12:03:04  2014-08-12 12:03:11  00:00:07   \n",
        "5  4280396237     19705  2014-08-12 10:22:04  2014-08-12 10:22:21  00:00:17   \n",
        "6  4280395513     66665  2014-08-12 10:20:46  2014-08-12 10:20:49  00:00:03   \n",
        "7  4280289707    344137  2014-08-12 08:19:40  2014-08-12 08:28:02  00:08:22   \n",
        "8  4280152209       337  2014-08-12 03:56:24  2014-08-12 04:15:25  00:19:01   \n",
        "\n",
        "    time2av             lastSeen        whenCertified             virusName  \\\n",
        "0  02:53:43  2014-08-13 14:05:24  2014-08-13 14:05:24      TR/Injector.XEAD   \n",
        "1  03:34:02  2014-08-13 14:05:26  2014-08-13 14:05:26      TR/Injector.XEAD   \n",
        "2  05:27:11  2014-08-13 15:05:09  2014-08-13 07:35:23   TR/Injector.pdab.10   \n",
        "3  08:05:41  2014-08-13 14:58:54  2014-08-12 20:21:07   TR/Dropper.VB.16104   \n",
        "4  05:18:51  2014-08-13 15:29:57  2014-08-12 17:21:55  TR/Crypt.ZPACK.66973   \n",
        "5  11:27:26  2014-08-13 14:06:50  2014-08-12 21:49:30          TR/Small.PSD   \n",
        "6  08:15:12  2014-08-13 14:43:20  2014-08-12 18:35:58  TR/Crypt.ZPACK.66973   \n",
        "7  12:00:56  2014-08-13 15:14:09  2014-08-12 20:20:36      TR/Gamarue.A.380   \n",
        "8  30:29:36  2014-08-13 14:04:06  2014-08-13 10:26:00  TR/Injector.693760.2   \n",
        "\n",
        "   Unnamed: 9  \n",
        "0         NaN  \n",
        "1         NaN  \n",
        "2         NaN  \n",
        "3         NaN  \n",
        "4         NaN  \n",
        "5         NaN  \n",
        "6         NaN  \n",
        "7         NaN  \n",
        "8         NaN  "
       ]
      }
     ],
     "prompt_number": 70
    },
    {
     "cell_type": "code",
     "collapsed": false,
     "input": [
      "import seaborn as sns"
     ],
     "language": "python",
     "metadata": {},
     "outputs": [],
     "prompt_number": 72
    },
    {
     "cell_type": "code",
     "collapsed": false,
     "input": [],
     "language": "python",
     "metadata": {},
     "outputs": []
    },
    {
     "cell_type": "code",
     "collapsed": false,
     "input": [
      "import matplotlib.pyplot as plt"
     ],
     "language": "python",
     "metadata": {},
     "outputs": [],
     "prompt_number": 73
    },
    {
     "cell_type": "code",
     "collapsed": false,
     "input": [
      "%pylab inline"
     ],
     "language": "python",
     "metadata": {},
     "outputs": [
      {
       "output_type": "stream",
       "stream": "stdout",
       "text": [
        "Populating the interactive namespace from numpy and matplotlib\n"
       ]
      }
     ],
     "prompt_number": 75
    },
    {
     "cell_type": "code",
     "collapsed": false,
     "input": [
      "sns.distplot(r.simCount)"
     ],
     "language": "python",
     "metadata": {},
     "outputs": [
      {
       "metadata": {},
       "output_type": "pyout",
       "prompt_number": 80,
       "text": [
        "<matplotlib.axes.AxesSubplot at 0x4170190>"
       ]
      },
      {
       "metadata": {},
       "output_type": "display_data",
       "png": "[encoded data removed]",
       "text": [
        "<matplotlib.figure.Figure at 0x413f8d0>"
       ]
      }
     ],
     "prompt_number": 80
    },
    {
     "cell_type": "code",
     "collapsed": false,
     "input": [],
     "language": "python",
     "metadata": {},
     "outputs": []
    }
   ],
   "metadata": {}
  }
 ]
}