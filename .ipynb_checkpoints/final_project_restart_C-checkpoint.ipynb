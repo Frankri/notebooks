{
 "metadata": {
  "name": "",
  "signature": "sha256:dd55e4fd9209fb8e9eb85d784ac36b443e78148415d8320d30e6cdcc21582afd"
 },
 "nbformat": 3,
 "nbformat_minor": 0,
 "worksheets": [
  {
   "cells": [
    {
     "cell_type": "markdown",
     "metadata": {},
     "source": [
      "## 0 Some Preparations\n",
      "I import some librarys, check my system and say the graphics should be inside"
     ]
    },
    {
     "cell_type": "code",
     "collapsed": false,
     "input": [
      "import pandas as pd"
     ],
     "language": "python",
     "metadata": {},
     "outputs": [],
     "prompt_number": 1
    },
    {
     "cell_type": "code",
     "collapsed": false,
     "input": [
      "import numpy as np"
     ],
     "language": "python",
     "metadata": {},
     "outputs": [],
     "prompt_number": 2
    },
    {
     "cell_type": "code",
     "collapsed": false,
     "input": [
      "import matplotlib.pyplot as plt"
     ],
     "language": "python",
     "metadata": {},
     "outputs": [],
     "prompt_number": 3
    },
    {
     "cell_type": "code",
     "collapsed": false,
     "input": [
      "import scipy as sp"
     ],
     "language": "python",
     "metadata": {},
     "outputs": [],
     "prompt_number": 4
    },
    {
     "cell_type": "code",
     "collapsed": false,
     "input": [
      "import seaborn as sns"
     ],
     "language": "python",
     "metadata": {},
     "outputs": [],
     "prompt_number": 5
    },
    {
     "cell_type": "code",
     "collapsed": false,
     "input": [
      "import datetime"
     ],
     "language": "python",
     "metadata": {},
     "outputs": [],
     "prompt_number": 6
    },
    {
     "cell_type": "code",
     "collapsed": false,
     "input": [
      "import sys"
     ],
     "language": "python",
     "metadata": {},
     "outputs": [],
     "prompt_number": 7
    },
    {
     "cell_type": "code",
     "collapsed": false,
     "input": [
      "import statsmodels"
     ],
     "language": "python",
     "metadata": {},
     "outputs": [],
     "prompt_number": 8
    },
    {
     "cell_type": "code",
     "collapsed": false,
     "input": [
      "print 'Python version ' + sys.version\n",
      "print 'Pandas version ' + pd.__version__"
     ],
     "language": "python",
     "metadata": {},
     "outputs": [
      {
       "output_type": "stream",
       "stream": "stdout",
       "text": [
        "Python version 2.7.5 (default, Jun  4 2014, 11:15:32) \n",
        "[GCC 4.4.7 20120313 (Red Hat 4.4.7-4)]\n",
        "Pandas version 0.14.1\n"
       ]
      }
     ],
     "prompt_number": 9
    },
    {
     "cell_type": "code",
     "collapsed": false,
     "input": [
      "%pylab inline"
     ],
     "language": "python",
     "metadata": {},
     "outputs": [
      {
       "output_type": "stream",
       "stream": "stdout",
       "text": [
        "Populating the interactive namespace from numpy and matplotlib\n"
       ]
      }
     ],
     "prompt_number": 10
    },
    {
     "cell_type": "code",
     "collapsed": false,
     "input": [
      "%autosave 60"
     ],
     "language": "python",
     "metadata": {},
     "outputs": [
      {
       "javascript": [
        "IPython.notebook.set_autosave_interval(60000)"
       ],
       "metadata": {},
       "output_type": "display_data"
      },
      {
       "output_type": "stream",
       "stream": "stdout",
       "text": [
        "Autosaving every 60 seconds\n"
       ]
      }
     ],
     "prompt_number": 11
    },
    {
     "cell_type": "markdown",
     "metadata": {},
     "source": [
      "***"
     ]
    },
    {
     "cell_type": "markdown",
     "metadata": {},
     "source": [
      "# 1 Import the Data in a Data Frame\n",
      "First things first: I import the csv data in pandas data frame and check the result."
     ]
    },
    {
     "cell_type": "code",
     "collapsed": false,
     "input": [
      "data = pd.read_csv('../turnstile_data_master_with_weather.csv')"
     ],
     "language": "python",
     "metadata": {},
     "outputs": [],
     "prompt_number": 12
    },
    {
     "cell_type": "code",
     "collapsed": false,
     "input": [
      "data.columns"
     ],
     "language": "python",
     "metadata": {},
     "outputs": [
      {
       "metadata": {},
       "output_type": "pyout",
       "prompt_number": 13,
       "text": [
        "Index([u'Unnamed: 0', u'UNIT', u'DATEn', u'TIMEn', u'Hour', u'DESCn', u'ENTRIESn_hourly', u'EXITSn_hourly', u'maxpressurei', u'maxdewpti', u'mindewpti', u'minpressurei', u'meandewpti', u'meanpressurei', u'fog', u'rain', u'meanwindspdi', u'mintempi', u'meantempi', u'maxtempi', u'precipi', u'thunder'], dtype='object')"
       ]
      }
     ],
     "prompt_number": 13
    },
    {
     "cell_type": "markdown",
     "metadata": {},
     "source": [
      "# 2 Import the Data"
     ]
    },
    {
     "cell_type": "code",
     "collapsed": false,
     "input": [
      "data['DATEn'] = pd.to_datetime(data.DATEn) # make sure that DATEn is a real date and not a string"
     ],
     "language": "python",
     "metadata": {},
     "outputs": [],
     "prompt_number": 14
    },
    {
     "cell_type": "markdown",
     "metadata": {},
     "source": [
      "I created a additional column for the __weekdays__. It starts with 0 for Monday and ends with 6 for Sunday."
     ]
    },
    {
     "cell_type": "code",
     "collapsed": false,
     "input": [
      "data['weekday'] = pd.DatetimeIndex(data['DATEn']).weekday"
     ],
     "language": "python",
     "metadata": {},
     "outputs": [],
     "prompt_number": 15
    },
    {
     "cell_type": "code",
     "collapsed": false,
     "input": [
      "data.columns # yes, last column is weekday"
     ],
     "language": "python",
     "metadata": {},
     "outputs": [
      {
       "metadata": {},
       "output_type": "pyout",
       "prompt_number": 16,
       "text": [
        "Index([u'Unnamed: 0', u'UNIT', u'DATEn', u'TIMEn', u'Hour', u'DESCn', u'ENTRIESn_hourly', u'EXITSn_hourly', u'maxpressurei', u'maxdewpti', u'mindewpti', u'minpressurei', u'meandewpti', u'meanpressurei', u'fog', u'rain', u'meanwindspdi', u'mintempi', u'meantempi', u'maxtempi', u'precipi', u'thunder', u'weekday'], dtype='object')"
       ]
      }
     ],
     "prompt_number": 16
    },
    {
     "cell_type": "markdown",
     "metadata": {},
     "source": [
      "***\n",
      "# Linear Regression"
     ]
    },
    {
     "cell_type": "markdown",
     "metadata": {},
     "source": [
      "The steps below follow [Allan Downey's 'Regression with Python, pandas and StatsModels'](http://allendowney.blogspot.de/2014/09/regression-with-python-pandas-and.html) with __my__ values.\n",
      "\n",
      "The influence of windspeed on temperature is obvius. I will start with _windspeed_ and _temperature_ for tryout."
     ]
    },
    {
     "cell_type": "code",
     "collapsed": false,
     "input": [
      "windy = data.dropna(subset=['meanwindspdi', 'meantempi'])"
     ],
     "language": "python",
     "metadata": {},
     "outputs": [],
     "prompt_number": 17
    },
    {
     "cell_type": "code",
     "collapsed": false,
     "input": [
      "plt.scatter(data.meanwindspdi, data.meantempi)"
     ],
     "language": "python",
     "metadata": {},
     "outputs": [
      {
       "metadata": {},
       "output_type": "pyout",
       "prompt_number": 18,
       "text": [
        "<matplotlib.collections.PathCollection at 0x4b5d050>"
       ]
      },
      {
       "output_type": "stream",
       "stream": "stderr",
       "text": [
        "/data/home/frickert/bitbucket/scrape_april/p27v/lib/python2.7/site-packages/matplotlib/font_manager.py:1236: UserWarning: findfont: Font family ['Arial'] not found. Falling back to Bitstream Vera Sans\n",
        "  (prop.get_family(), self.defaultFamily[fontext]))\n"
       ]
      },
      {
       "metadata": {},
       "output_type": "display_data",
       "png": "[encoded data removed]",
       "text": [
        "<matplotlib.figure.Figure at 0x12fc390>"
       ]
      }
     ],
     "prompt_number": 18
    },
    {
     "cell_type": "code",
     "collapsed": false,
     "input": [
      "windy['meanwindspdi'].mean()"
     ],
     "language": "python",
     "metadata": {},
     "outputs": [
      {
       "metadata": {},
       "output_type": "pyout",
       "prompt_number": 19,
       "text": [
        "5.5430652287591604"
       ]
      }
     ],
     "prompt_number": 19
    },
    {
     "cell_type": "code",
     "collapsed": false,
     "input": [
      "windy['meantempi'].mean()"
     ],
     "language": "python",
     "metadata": {},
     "outputs": [
      {
       "metadata": {},
       "output_type": "pyout",
       "prompt_number": 20,
       "text": [
        "64.269728914521295"
       ]
      }
     ],
     "prompt_number": 20
    },
    {
     "cell_type": "code",
     "collapsed": false,
     "input": [
      "windy['meanwindspdi'].corr(windy['meantempi'])"
     ],
     "language": "python",
     "metadata": {},
     "outputs": [
      {
       "metadata": {},
       "output_type": "pyout",
       "prompt_number": 21,
       "text": [
        "-0.36432906786982516"
       ]
      }
     ],
     "prompt_number": 21
    },
    {
     "cell_type": "code",
     "collapsed": false,
     "input": [
      "import statsmodels.formula.api as smf"
     ],
     "language": "python",
     "metadata": {},
     "outputs": [],
     "prompt_number": 22
    },
    {
     "cell_type": "code",
     "collapsed": false,
     "input": [
      "formula = 'meantempi ~ meanwindspdi'"
     ],
     "language": "python",
     "metadata": {},
     "outputs": [],
     "prompt_number": 23
    },
    {
     "cell_type": "code",
     "collapsed": false,
     "input": [
      "results = smf.ols(formula, data = windy).fit()"
     ],
     "language": "python",
     "metadata": {},
     "outputs": [],
     "prompt_number": 24
    },
    {
     "cell_type": "code",
     "collapsed": false,
     "input": [
      "results.summary()"
     ],
     "language": "python",
     "metadata": {},
     "outputs": [
      {
       "html": [
        "<table class=\"simpletable\">\n",
        "<caption>OLS Regression Results</caption>\n",
        "<tr>\n",
        "  <th>Dep. Variable:</th>        <td>meantempi</td>    <th>  R-squared:         </th>  <td>   0.133</td>  \n",
        "</tr>\n",
        "<tr>\n",
        "  <th>Model:</th>                   <td>OLS</td>       <th>  Adj. R-squared:    </th>  <td>   0.133</td>  \n",
        "</tr>\n",
        "<tr>\n",
        "  <th>Method:</th>             <td>Least Squares</td>  <th>  F-statistic:       </th>  <td>2.019e+04</td> \n",
        "</tr>\n",
        "<tr>\n",
        "  <th>Date:</th>             <td>Wed, 17 Sep 2014</td> <th>  Prob (F-statistic):</th>   <td>  0.00</td>   \n",
        "</tr>\n",
        "<tr>\n",
        "  <th>Time:</th>                 <td>18:22:01</td>     <th>  Log-Likelihood:    </th> <td>-4.2620e+05</td>\n",
        "</tr>\n",
        "<tr>\n",
        "  <th>No. Observations:</th>      <td>131951</td>      <th>  AIC:               </th>  <td>8.524e+05</td> \n",
        "</tr>\n",
        "<tr>\n",
        "  <th>Df Residuals:</th>          <td>131949</td>      <th>  BIC:               </th>  <td>8.524e+05</td> \n",
        "</tr>\n",
        "<tr>\n",
        "  <th>Df Model:</th>              <td>     1</td>      <th>                     </th>      <td> </td>     \n",
        "</tr>\n",
        "</table>\n",
        "<table class=\"simpletable\">\n",
        "<tr>\n",
        "        <td></td>          <th>coef</th>     <th>std err</th>      <th>t</th>      <th>P>|t|</th> <th>[95.0% Conf. Int.]</th> \n",
        "</tr>\n",
        "<tr>\n",
        "  <th>Intercept</th>    <td>   70.9608</td> <td>    0.050</td> <td> 1419.080</td> <td> 0.000</td> <td>   70.863    71.059</td>\n",
        "</tr>\n",
        "<tr>\n",
        "  <th>meanwindspdi</th> <td>   -1.2071</td> <td>    0.008</td> <td> -142.109</td> <td> 0.000</td> <td>   -1.224    -1.190</td>\n",
        "</tr>\n",
        "</table>\n",
        "<table class=\"simpletable\">\n",
        "<tr>\n",
        "  <th>Omnibus:</th>       <td>9775.534</td> <th>  Durbin-Watson:     </th> <td>   0.000</td>\n",
        "</tr>\n",
        "<tr>\n",
        "  <th>Prob(Omnibus):</th>  <td> 0.000</td>  <th>  Jarque-Bera (JB):  </th> <td>8368.855</td>\n",
        "</tr>\n",
        "<tr>\n",
        "  <th>Skew:</th>           <td> 0.541</td>  <th>  Prob(JB):          </th> <td>    0.00</td>\n",
        "</tr>\n",
        "<tr>\n",
        "  <th>Kurtosis:</th>       <td> 2.408</td>  <th>  Cond. No.          </th> <td>    17.9</td>\n",
        "</tr>\n",
        "</table>"
       ],
       "metadata": {},
       "output_type": "pyout",
       "prompt_number": 25,
       "text": [
        "<class 'statsmodels.iolib.summary.Summary'>\n",
        "\"\"\"\n",
        "                            OLS Regression Results                            \n",
        "==============================================================================\n",
        "Dep. Variable:              meantempi   R-squared:                       0.133\n",
        "Model:                            OLS   Adj. R-squared:                  0.133\n",
        "Method:                 Least Squares   F-statistic:                 2.019e+04\n",
        "Date:                Wed, 17 Sep 2014   Prob (F-statistic):               0.00\n",
        "Time:                        18:22:01   Log-Likelihood:            -4.2620e+05\n",
        "No. Observations:              131951   AIC:                         8.524e+05\n",
        "Df Residuals:                  131949   BIC:                         8.524e+05\n",
        "Df Model:                           1                                         \n",
        "================================================================================\n",
        "                   coef    std err          t      P>|t|      [95.0% Conf. Int.]\n",
        "--------------------------------------------------------------------------------\n",
        "Intercept       70.9608      0.050   1419.080      0.000        70.863    71.059\n",
        "meanwindspdi    -1.2071      0.008   -142.109      0.000        -1.224    -1.190\n",
        "==============================================================================\n",
        "Omnibus:                     9775.534   Durbin-Watson:                   0.000\n",
        "Prob(Omnibus):                  0.000   Jarque-Bera (JB):             8368.855\n",
        "Skew:                           0.541   Prob(JB):                         0.00\n",
        "Kurtosis:                       2.408   Cond. No.                         17.9\n",
        "==============================================================================\n",
        "\"\"\""
       ]
      }
     ],
     "prompt_number": 25
    },
    {
     "cell_type": "markdown",
     "metadata": {},
     "source": [
      "R-squared of 0.133 - not so strong (we like to have 0.4 or higher) but ok.\n",
      "***\n",
      "That was a test dependency, now I will create the subset for different influences on ridership, that means my dependend variable y are the entries in the subway. My independend features are bundled in x.\n",
      "\n",
      "I start with __one__ x that's the _temperature_."
     ]
    },
    {
     "cell_type": "code",
     "collapsed": false,
     "input": [
      "entries = data.dropna(subset=['meantempi', 'ENTRIESn_hourly'])"
     ],
     "language": "python",
     "metadata": {},
     "outputs": [],
     "prompt_number": 26
    },
    {
     "cell_type": "code",
     "collapsed": false,
     "input": [
      "plt.scatter(entries.meantempi, entries.ENTRIESn_hourly)"
     ],
     "language": "python",
     "metadata": {},
     "outputs": [
      {
       "metadata": {},
       "output_type": "pyout",
       "prompt_number": 27,
       "text": [
        "<matplotlib.collections.PathCollection at 0x62ae250>"
       ]
      },
      {
       "metadata": {},
       "output_type": "display_data",
       "png": "[encoded data removed]",
       "text": [
        "<matplotlib.figure.Figure at 0x6295fd0>"
       ]
      }
     ],
     "prompt_number": 27
    },
    {
     "cell_type": "code",
     "collapsed": false,
     "input": [
      "entries['meantempi'].mean()"
     ],
     "language": "python",
     "metadata": {},
     "outputs": [
      {
       "metadata": {},
       "output_type": "pyout",
       "prompt_number": 28,
       "text": [
        "64.269728914521295"
       ]
      }
     ],
     "prompt_number": 28
    },
    {
     "cell_type": "code",
     "collapsed": false,
     "input": [
      "entries['ENTRIESn_hourly'].mean()"
     ],
     "language": "python",
     "metadata": {},
     "outputs": [
      {
       "metadata": {},
       "output_type": "pyout",
       "prompt_number": 29,
       "text": [
        "1095.3484778440481"
       ]
      }
     ],
     "prompt_number": 29
    },
    {
     "cell_type": "code",
     "collapsed": false,
     "input": [
      "entries['ENTRIESn_hourly'].corr(entries['meantempi'])"
     ],
     "language": "python",
     "metadata": {},
     "outputs": [
      {
       "metadata": {},
       "output_type": "pyout",
       "prompt_number": 30,
       "text": [
        "-0.022796041448388201"
       ]
      }
     ],
     "prompt_number": 30
    },
    {
     "cell_type": "code",
     "collapsed": false,
     "input": [
      "formula = 'ENTRIESn_hourly ~ meantempi'"
     ],
     "language": "python",
     "metadata": {},
     "outputs": [],
     "prompt_number": 31
    },
    {
     "cell_type": "code",
     "collapsed": false,
     "input": [
      "results = smf.ols(formula, data = entries).fit()"
     ],
     "language": "python",
     "metadata": {},
     "outputs": [],
     "prompt_number": 32
    },
    {
     "cell_type": "code",
     "collapsed": false,
     "input": [
      "results.summary()"
     ],
     "language": "python",
     "metadata": {},
     "outputs": [
      {
       "html": [
        "<table class=\"simpletable\">\n",
        "<caption>OLS Regression Results</caption>\n",
        "<tr>\n",
        "  <th>Dep. Variable:</th>     <td>ENTRIESn_hourly</td> <th>  R-squared:         </th>  <td>   0.001</td>  \n",
        "</tr>\n",
        "<tr>\n",
        "  <th>Model:</th>                   <td>OLS</td>       <th>  Adj. R-squared:    </th>  <td>   0.001</td>  \n",
        "</tr>\n",
        "<tr>\n",
        "  <th>Method:</th>             <td>Least Squares</td>  <th>  F-statistic:       </th>  <td>   68.60</td>  \n",
        "</tr>\n",
        "<tr>\n",
        "  <th>Date:</th>             <td>Wed, 17 Sep 2014</td> <th>  Prob (F-statistic):</th>  <td>1.21e-16</td>  \n",
        "</tr>\n",
        "<tr>\n",
        "  <th>Time:</th>                 <td>18:22:13</td>     <th>  Log-Likelihood:    </th> <td>-1.2107e+06</td>\n",
        "</tr>\n",
        "<tr>\n",
        "  <th>No. Observations:</th>      <td>131951</td>      <th>  AIC:               </th>  <td>2.421e+06</td> \n",
        "</tr>\n",
        "<tr>\n",
        "  <th>Df Residuals:</th>          <td>131949</td>      <th>  BIC:               </th>  <td>2.421e+06</td> \n",
        "</tr>\n",
        "<tr>\n",
        "  <th>Df Model:</th>              <td>     1</td>      <th>                     </th>      <td> </td>     \n",
        "</tr>\n",
        "</table>\n",
        "<table class=\"simpletable\">\n",
        "<tr>\n",
        "      <td></td>         <th>coef</th>     <th>std err</th>      <th>t</th>      <th>P>|t|</th> <th>[95.0% Conf. Int.]</th> \n",
        "</tr>\n",
        "<tr>\n",
        "  <th>Intercept</th> <td> 1616.6334</td> <td>   63.264</td> <td>   25.554</td> <td> 0.000</td> <td> 1492.637  1740.630</td>\n",
        "</tr>\n",
        "<tr>\n",
        "  <th>meantempi</th> <td>   -8.1109</td> <td>    0.979</td> <td>   -8.283</td> <td> 0.000</td> <td>  -10.030    -6.192</td>\n",
        "</tr>\n",
        "</table>\n",
        "<table class=\"simpletable\">\n",
        "<tr>\n",
        "  <th>Omnibus:</th>       <td>145997.936</td> <th>  Durbin-Watson:     </th>   <td>   1.033</td>  \n",
        "</tr>\n",
        "<tr>\n",
        "  <th>Prob(Omnibus):</th>   <td> 0.000</td>   <th>  Jarque-Bera (JB):  </th> <td>14973722.183</td>\n",
        "</tr>\n",
        "<tr>\n",
        "  <th>Skew:</th>            <td> 5.689</td>   <th>  Prob(JB):          </th>   <td>    0.00</td>  \n",
        "</tr>\n",
        "<tr>\n",
        "  <th>Kurtosis:</th>        <td>53.932</td>   <th>  Cond. No.          </th>   <td>    636.</td>  \n",
        "</tr>\n",
        "</table>"
       ],
       "metadata": {},
       "output_type": "pyout",
       "prompt_number": 33,
       "text": [
        "<class 'statsmodels.iolib.summary.Summary'>\n",
        "\"\"\"\n",
        "                            OLS Regression Results                            \n",
        "==============================================================================\n",
        "Dep. Variable:        ENTRIESn_hourly   R-squared:                       0.001\n",
        "Model:                            OLS   Adj. R-squared:                  0.001\n",
        "Method:                 Least Squares   F-statistic:                     68.60\n",
        "Date:                Wed, 17 Sep 2014   Prob (F-statistic):           1.21e-16\n",
        "Time:                        18:22:13   Log-Likelihood:            -1.2107e+06\n",
        "No. Observations:              131951   AIC:                         2.421e+06\n",
        "Df Residuals:                  131949   BIC:                         2.421e+06\n",
        "Df Model:                           1                                         \n",
        "==============================================================================\n",
        "                 coef    std err          t      P>|t|      [95.0% Conf. Int.]\n",
        "------------------------------------------------------------------------------\n",
        "Intercept   1616.6334     63.264     25.554      0.000      1492.637  1740.630\n",
        "meantempi     -8.1109      0.979     -8.283      0.000       -10.030    -6.192\n",
        "==============================================================================\n",
        "Omnibus:                   145997.936   Durbin-Watson:                   1.033\n",
        "Prob(Omnibus):                  0.000   Jarque-Bera (JB):         14973722.183\n",
        "Skew:                           5.689   Prob(JB):                         0.00\n",
        "Kurtosis:                      53.932   Cond. No.                         636.\n",
        "==============================================================================\n",
        "\"\"\""
       ]
      }
     ],
     "prompt_number": 33
    },
    {
     "cell_type": "markdown",
     "metadata": {},
     "source": [
      "Far as I see the mean temperature has not a big influence on the ridership. I will add some other features.\n",
      "***\n",
      "Now I will put in the whole bunch of features."
     ]
    },
    {
     "cell_type": "code",
     "collapsed": false,
     "input": [
      "formula = ('ENTRIESn_hourly ~ meantempi + '\n",
      "            'rain == 1 +'\n",
      "            'fog == 1 +'\n",
      "            'precipi +'\n",
      "            'weekday +'\n",
      "            'Hour')"
     ],
     "language": "python",
     "metadata": {},
     "outputs": [],
     "prompt_number": 34
    },
    {
     "cell_type": "code",
     "collapsed": false,
     "input": [
      "results = smf.ols(formula, data = entries).fit()"
     ],
     "language": "python",
     "metadata": {},
     "outputs": [],
     "prompt_number": 35
    },
    {
     "cell_type": "code",
     "collapsed": false,
     "input": [
      "results.summary()"
     ],
     "language": "python",
     "metadata": {},
     "outputs": [
      {
       "html": [
        "<table class=\"simpletable\">\n",
        "<caption>OLS Regression Results</caption>\n",
        "<tr>\n",
        "  <th>Dep. Variable:</th>     <td>ENTRIESn_hourly</td> <th>  R-squared:         </th>  <td>   0.037</td>  \n",
        "</tr>\n",
        "<tr>\n",
        "  <th>Model:</th>                   <td>OLS</td>       <th>  Adj. R-squared:    </th>  <td>   0.037</td>  \n",
        "</tr>\n",
        "<tr>\n",
        "  <th>Method:</th>             <td>Least Squares</td>  <th>  F-statistic:       </th>  <td>   855.9</td>  \n",
        "</tr>\n",
        "<tr>\n",
        "  <th>Date:</th>             <td>Wed, 17 Sep 2014</td> <th>  Prob (F-statistic):</th>   <td>  0.00</td>   \n",
        "</tr>\n",
        "<tr>\n",
        "  <th>Time:</th>                 <td>18:22:14</td>     <th>  Log-Likelihood:    </th> <td>-1.2082e+06</td>\n",
        "</tr>\n",
        "<tr>\n",
        "  <th>No. Observations:</th>      <td>131951</td>      <th>  AIC:               </th>  <td>2.416e+06</td> \n",
        "</tr>\n",
        "<tr>\n",
        "  <th>Df Residuals:</th>          <td>131944</td>      <th>  BIC:               </th>  <td>2.416e+06</td> \n",
        "</tr>\n",
        "<tr>\n",
        "  <th>Df Model:</th>              <td>     6</td>      <th>                     </th>      <td> </td>     \n",
        "</tr>\n",
        "</table>\n",
        "<table class=\"simpletable\">\n",
        "<tr>\n",
        "          <td></td>             <th>coef</th>     <th>std err</th>      <th>t</th>      <th>P>|t|</th> <th>[95.0% Conf. Int.]</th> \n",
        "</tr>\n",
        "<tr>\n",
        "  <th>Intercept</th>         <td> 1237.1361</td> <td>   66.795</td> <td>   18.521</td> <td> 0.000</td> <td> 1106.220  1368.052</td>\n",
        "</tr>\n",
        "<tr>\n",
        "  <th>rain == 1[T.True]</th> <td> -145.4967</td> <td>   17.158</td> <td>   -8.480</td> <td> 0.000</td> <td> -179.126  -111.867</td>\n",
        "</tr>\n",
        "<tr>\n",
        "  <th>fog == 1[T.True]</th>  <td>   73.4906</td> <td>   20.549</td> <td>    3.576</td> <td> 0.000</td> <td>   33.215   113.766</td>\n",
        "</tr>\n",
        "<tr>\n",
        "  <th>meantempi</th>         <td>   -7.7145</td> <td>    1.007</td> <td>   -7.662</td> <td> 0.000</td> <td>   -9.688    -5.741</td>\n",
        "</tr>\n",
        "<tr>\n",
        "  <th>precipi</th>           <td>   50.1635</td> <td>   19.267</td> <td>    2.604</td> <td> 0.009</td> <td>   12.400    87.927</td>\n",
        "</tr>\n",
        "<tr>\n",
        "  <th>weekday</th>           <td>  -89.3361</td> <td>    3.133</td> <td>  -28.512</td> <td> 0.000</td> <td>  -95.477   -83.195</td>\n",
        "</tr>\n",
        "<tr>\n",
        "  <th>Hour</th>              <td>   59.4977</td> <td>    0.916</td> <td>   64.964</td> <td> 0.000</td> <td>   57.703    61.293</td>\n",
        "</tr>\n",
        "</table>\n",
        "<table class=\"simpletable\">\n",
        "<tr>\n",
        "  <th>Omnibus:</th>       <td>145291.582</td> <th>  Durbin-Watson:     </th>   <td>   1.017</td>  \n",
        "</tr>\n",
        "<tr>\n",
        "  <th>Prob(Omnibus):</th>   <td> 0.000</td>   <th>  Jarque-Bera (JB):  </th> <td>15050803.073</td>\n",
        "</tr>\n",
        "<tr>\n",
        "  <th>Skew:</th>            <td> 5.634</td>   <th>  Prob(JB):          </th>   <td>    0.00</td>  \n",
        "</tr>\n",
        "<tr>\n",
        "  <th>Kurtosis:</th>        <td>54.093</td>   <th>  Cond. No.          </th>   <td>    697.</td>  \n",
        "</tr>\n",
        "</table>"
       ],
       "metadata": {},
       "output_type": "pyout",
       "prompt_number": 36,
       "text": [
        "<class 'statsmodels.iolib.summary.Summary'>\n",
        "\"\"\"\n",
        "                            OLS Regression Results                            \n",
        "==============================================================================\n",
        "Dep. Variable:        ENTRIESn_hourly   R-squared:                       0.037\n",
        "Model:                            OLS   Adj. R-squared:                  0.037\n",
        "Method:                 Least Squares   F-statistic:                     855.9\n",
        "Date:                Wed, 17 Sep 2014   Prob (F-statistic):               0.00\n",
        "Time:                        18:22:14   Log-Likelihood:            -1.2082e+06\n",
        "No. Observations:              131951   AIC:                         2.416e+06\n",
        "Df Residuals:                  131944   BIC:                         2.416e+06\n",
        "Df Model:                           6                                         \n",
        "=====================================================================================\n",
        "                        coef    std err          t      P>|t|      [95.0% Conf. Int.]\n",
        "-------------------------------------------------------------------------------------\n",
        "Intercept          1237.1361     66.795     18.521      0.000      1106.220  1368.052\n",
        "rain == 1[T.True]  -145.4967     17.158     -8.480      0.000      -179.126  -111.867\n",
        "fog == 1[T.True]     73.4906     20.549      3.576      0.000        33.215   113.766\n",
        "meantempi            -7.7145      1.007     -7.662      0.000        -9.688    -5.741\n",
        "precipi              50.1635     19.267      2.604      0.009        12.400    87.927\n",
        "weekday             -89.3361      3.133    -28.512      0.000       -95.477   -83.195\n",
        "Hour                 59.4977      0.916     64.964      0.000        57.703    61.293\n",
        "==============================================================================\n",
        "Omnibus:                   145291.582   Durbin-Watson:                   1.017\n",
        "Prob(Omnibus):                  0.000   Jarque-Bera (JB):         15050803.073\n",
        "Skew:                           5.634   Prob(JB):                         0.00\n",
        "Kurtosis:                      54.093   Cond. No.                         697.\n",
        "==============================================================================\n",
        "\"\"\""
       ]
      }
     ],
     "prompt_number": 36
    },
    {
     "cell_type": "markdown",
     "metadata": {},
     "source": [
      "Summary: R-squared _0.037_ is too low. "
     ]
    },
    {
     "cell_type": "code",
     "collapsed": false,
     "input": [],
     "language": "python",
     "metadata": {},
     "outputs": [],
     "prompt_number": 36
    }
   ],
   "metadata": {}
  }
 ]
}