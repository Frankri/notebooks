{
 "metadata": {
  "name": "",
  "signature": "sha256:f623a9da86e3ad6499622d8ec809bebfb4c7b9a4cf683aef8353a087ef24041f"
 },
 "nbformat": 3,
 "nbformat_minor": 0,
 "worksheets": [
  {
   "cells": [
    {
     "cell_type": "markdown",
     "metadata": {},
     "source": [
      "## 0 Some Preparations\n",
      "I import some librarys, check my system and say the graphics should be inside"
     ]
    },
    {
     "cell_type": "code",
     "collapsed": false,
     "input": [
      "import pandas as pd"
     ],
     "language": "python",
     "metadata": {},
     "outputs": [],
     "prompt_number": 1
    },
    {
     "cell_type": "code",
     "collapsed": false,
     "input": [
      "import numpy as np"
     ],
     "language": "python",
     "metadata": {},
     "outputs": [],
     "prompt_number": 2
    },
    {
     "cell_type": "code",
     "collapsed": false,
     "input": [
      "import matplotlib.pyplot as plt"
     ],
     "language": "python",
     "metadata": {},
     "outputs": [],
     "prompt_number": 3
    },
    {
     "cell_type": "code",
     "collapsed": false,
     "input": [
      "import scipy as sp"
     ],
     "language": "python",
     "metadata": {},
     "outputs": [],
     "prompt_number": 4
    },
    {
     "cell_type": "code",
     "collapsed": false,
     "input": [
      "import seaborn as sns"
     ],
     "language": "python",
     "metadata": {},
     "outputs": [],
     "prompt_number": 5
    },
    {
     "cell_type": "code",
     "collapsed": false,
     "input": [
      "import datetime"
     ],
     "language": "python",
     "metadata": {},
     "outputs": [],
     "prompt_number": 6
    },
    {
     "cell_type": "code",
     "collapsed": false,
     "input": [
      "import sys"
     ],
     "language": "python",
     "metadata": {},
     "outputs": [],
     "prompt_number": 7
    },
    {
     "cell_type": "code",
     "collapsed": false,
     "input": [
      "import statsmodels"
     ],
     "language": "python",
     "metadata": {},
     "outputs": [],
     "prompt_number": 8
    },
    {
     "cell_type": "code",
     "collapsed": false,
     "input": [
      "print 'Python version ' + sys.version\n",
      "print 'Pandas version ' + pd.__version__"
     ],
     "language": "python",
     "metadata": {},
     "outputs": [
      {
       "output_type": "stream",
       "stream": "stdout",
       "text": [
        "Python version 2.7.5 (default, Jun  4 2014, 11:15:32) \n",
        "[GCC 4.4.7 20120313 (Red Hat 4.4.7-4)]\n",
        "Pandas version 0.14.1\n"
       ]
      }
     ],
     "prompt_number": 9
    },
    {
     "cell_type": "code",
     "collapsed": false,
     "input": [
      "%pylab inline"
     ],
     "language": "python",
     "metadata": {},
     "outputs": [
      {
       "output_type": "stream",
       "stream": "stdout",
       "text": [
        "Populating the interactive namespace from numpy and matplotlib\n"
       ]
      }
     ],
     "prompt_number": 10
    },
    {
     "cell_type": "code",
     "collapsed": false,
     "input": [
      "#%autosave 10"
     ],
     "language": "python",
     "metadata": {},
     "outputs": [],
     "prompt_number": 11
    },
    {
     "cell_type": "markdown",
     "metadata": {},
     "source": [
      "***"
     ]
    },
    {
     "cell_type": "markdown",
     "metadata": {},
     "source": [
      "# 1 Import the Data in a Data Frame\n",
      "First things first: I import the csv data in pandas data frame and check the result."
     ]
    },
    {
     "cell_type": "code",
     "collapsed": false,
     "input": [
      "data = pd.read_csv('turnstile_data_master_with_weather.csv')"
     ],
     "language": "python",
     "metadata": {},
     "outputs": [],
     "prompt_number": 97
    },
    {
     "cell_type": "markdown",
     "metadata": {},
     "source": [
      "# 2 Cut the Data\n",
      "For different reasons we can't use all data. _DESCn_ and _Thunder_ have no alteration. _Fog_ and _rain_ are __nominal__ that means I can't compare this data with the __cardinal/ intervall__ data in the other columns."
     ]
    },
    {
     "cell_type": "code",
     "collapsed": false,
     "input": [
      "data['DATEn'] = pd.to_datetime(data.DATEn) # make sure that DATEn is a real date and not a string"
     ],
     "language": "python",
     "metadata": {},
     "outputs": [],
     "prompt_number": 98
    },
    {
     "cell_type": "markdown",
     "metadata": {},
     "source": [
      "I created a additional column for the __weekdays__. It starts with 0 for Monday and ends with 6 for Sunday."
     ]
    },
    {
     "cell_type": "code",
     "collapsed": false,
     "input": [
      "data['weekday'] = pd.DatetimeIndex(data['DATEn']).weekday"
     ],
     "language": "python",
     "metadata": {},
     "outputs": [],
     "prompt_number": 99
    },
    {
     "cell_type": "code",
     "collapsed": false,
     "input": [
      "data2 = data[['UNIT', 'DATEn', 'TIMEn', 'Hour', 'ENTRIESn_hourly', 'EXITSn_hourly', 'maxpressurei', 'maxdewpti', 'mindewpti', 'minpressurei', 'meandewpti', 'meanpressurei', 'meanwindspdi', 'mintempi', 'meantempi', 'maxtempi', 'precipi', 'weekday']] "
     ],
     "language": "python",
     "metadata": {},
     "outputs": [],
     "prompt_number": 100
    },
    {
     "cell_type": "code",
     "collapsed": false,
     "input": [
      "print data2.columns"
     ],
     "language": "python",
     "metadata": {},
     "outputs": [
      {
       "output_type": "stream",
       "stream": "stdout",
       "text": [
        "Index([u'UNIT', u'DATEn', u'TIMEn', u'Hour', u'ENTRIESn_hourly', u'EXITSn_hourly', u'maxpressurei', u'maxdewpti', u'mindewpti', u'minpressurei', u'meandewpti', u'meanpressurei', u'meanwindspdi', u'mintempi', u'meantempi', u'maxtempi', u'precipi', u'weekday'], dtype='object')\n"
       ]
      }
     ],
     "prompt_number": 101
    },
    {
     "cell_type": "markdown",
     "metadata": {},
     "source": [
      "***"
     ]
    },
    {
     "cell_type": "markdown",
     "metadata": {},
     "source": [
      "# Linear Regression - What if ...\n",
      "With the before findings I will try to perform a linear regression and an make a prediction for the ridership at fictional point (day or time). "
     ]
    },
    {
     "cell_type": "markdown",
     "metadata": {},
     "source": [
      "***\n",
      "## Simple Linear Regression\n",
      "Given the day of the week as x. How many entries can we expect - that should be y. The formula is: Bxy = Rxy * Sx/ Sy\n",
      "\n",
      "Bxy - regression coefficient,\n",
      "Rxy - correlation coefficient,\n",
      "Sx - standard deviation of x,\n",
      "Sy - standard deviation of y"
     ]
    },
    {
     "cell_type": "code",
     "collapsed": false,
     "input": [
      "data[['meanwindspdi', 'meantempi']].corr()"
     ],
     "language": "python",
     "metadata": {},
     "outputs": [
      {
       "html": [
        "<div style=\"max-height:1000px;max-width:1500px;overflow:auto;\">\n",
        "<table border=\"1\" class=\"dataframe\">\n",
        "  <thead>\n",
        "    <tr style=\"text-align: right;\">\n",
        "      <th></th>\n",
        "      <th>meanwindspdi</th>\n",
        "      <th>meantempi</th>\n",
        "    </tr>\n",
        "  </thead>\n",
        "  <tbody>\n",
        "    <tr>\n",
        "      <th>meanwindspdi</th>\n",
        "      <td> 1.000000</td>\n",
        "      <td>-0.364329</td>\n",
        "    </tr>\n",
        "    <tr>\n",
        "      <th>meantempi</th>\n",
        "      <td>-0.364329</td>\n",
        "      <td> 1.000000</td>\n",
        "    </tr>\n",
        "  </tbody>\n",
        "</table>\n",
        "</div>"
       ],
       "metadata": {},
       "output_type": "pyout",
       "prompt_number": 112,
       "text": [
        "              meanwindspdi  meantempi\n",
        "meanwindspdi      1.000000  -0.364329\n",
        "meantempi        -0.364329   1.000000"
       ]
      }
     ],
     "prompt_number": 112
    },
    {
     "cell_type": "code",
     "collapsed": false,
     "input": [
      "data[['meanwindspdi', 'meantempi']].describe()"
     ],
     "language": "python",
     "metadata": {},
     "outputs": [
      {
       "html": [
        "<div style=\"max-height:1000px;max-width:1500px;overflow:auto;\">\n",
        "<table border=\"1\" class=\"dataframe\">\n",
        "  <thead>\n",
        "    <tr style=\"text-align: right;\">\n",
        "      <th></th>\n",
        "      <th>meanwindspdi</th>\n",
        "      <th>meantempi</th>\n",
        "    </tr>\n",
        "  </thead>\n",
        "  <tbody>\n",
        "    <tr>\n",
        "      <th>count</th>\n",
        "      <td> 131951.000000</td>\n",
        "      <td> 131951.000000</td>\n",
        "    </tr>\n",
        "    <tr>\n",
        "      <th>mean</th>\n",
        "      <td>      5.543065</td>\n",
        "      <td>     64.269729</td>\n",
        "    </tr>\n",
        "    <tr>\n",
        "      <th>std</th>\n",
        "      <td>      1.982441</td>\n",
        "      <td>      6.568289</td>\n",
        "    </tr>\n",
        "    <tr>\n",
        "      <th>min</th>\n",
        "      <td>      1.000000</td>\n",
        "      <td>     55.000000</td>\n",
        "    </tr>\n",
        "    <tr>\n",
        "      <th>25%</th>\n",
        "      <td>      5.000000</td>\n",
        "      <td>     60.000000</td>\n",
        "    </tr>\n",
        "    <tr>\n",
        "      <th>50%</th>\n",
        "      <td>      5.000000</td>\n",
        "      <td>     63.000000</td>\n",
        "    </tr>\n",
        "    <tr>\n",
        "      <th>75%</th>\n",
        "      <td>      6.000000</td>\n",
        "      <td>     68.000000</td>\n",
        "    </tr>\n",
        "    <tr>\n",
        "      <th>max</th>\n",
        "      <td>     12.000000</td>\n",
        "      <td>     78.000000</td>\n",
        "    </tr>\n",
        "  </tbody>\n",
        "</table>\n",
        "</div>"
       ],
       "metadata": {},
       "output_type": "pyout",
       "prompt_number": 113,
       "text": [
        "        meanwindspdi      meantempi\n",
        "count  131951.000000  131951.000000\n",
        "mean        5.543065      64.269729\n",
        "std         1.982441       6.568289\n",
        "min         1.000000      55.000000\n",
        "25%         5.000000      60.000000\n",
        "50%         5.000000      63.000000\n",
        "75%         6.000000      68.000000\n",
        "max        12.000000      78.000000"
       ]
      }
     ],
     "prompt_number": 113
    },
    {
     "cell_type": "code",
     "collapsed": false,
     "input": [
      "#Values for computation simple linear regression for meantemp\n",
      "\n",
      "Rxy = -0.3643 # linear regression coefficient \n",
      "Sx = 1.982\n",
      "Sy = 6.568\n",
      "My = data2['meanwindspdi'].mean()\n",
      "Mx = data2['meantempi'].mean()"
     ],
     "language": "python",
     "metadata": {},
     "outputs": [],
     "prompt_number": 140
    },
    {
     "cell_type": "code",
     "collapsed": false,
     "input": [
      "B1 = Rxy * Sx/ Sy # sometimes B1 is called Bxy, b1 "
     ],
     "language": "python",
     "metadata": {},
     "outputs": [],
     "prompt_number": 141
    },
    {
     "cell_type": "code",
     "collapsed": false,
     "input": [
      "B0 = My - B1 * Mx"
     ],
     "language": "python",
     "metadata": {},
     "outputs": [],
     "prompt_number": 142
    },
    {
     "cell_type": "code",
     "collapsed": false,
     "input": [
      "print B0\n",
      "print B1"
     ],
     "language": "python",
     "metadata": {},
     "outputs": [
      {
       "output_type": "stream",
       "stream": "stdout",
       "text": [
        "12.6084553272\n",
        "-0.109933404385\n"
       ]
      }
     ],
     "prompt_number": 143
    },
    {
     "cell_type": "code",
     "collapsed": false,
     "input": [
      "def lin_reg(x):\n",
      "    y = B0 + B1 * x\n",
      "    return y"
     ],
     "language": "python",
     "metadata": {},
     "outputs": [],
     "prompt_number": 144
    },
    {
     "cell_type": "code",
     "collapsed": false,
     "input": [
      "ctr = 0\n",
      "arr = []\n",
      "for e in data2.meanwindspdi:\n",
      "    pt = lin_reg(e)\n",
      "    arr.append(pt)\n",
      "    #data2['predicted_by_windspeed'][ctr] = pt\n",
      "    ctr += 1\n",
      "    \n",
      "print len(arr)\n",
      "data2['t_predicted_by_windspeed'] = arr\n"
     ],
     "language": "python",
     "metadata": {},
     "outputs": [
      {
       "output_type": "stream",
       "stream": "stdout",
       "text": [
        "131951\n"
       ]
      }
     ],
     "prompt_number": 145
    },
    {
     "cell_type": "code",
     "collapsed": false,
     "input": [
      "pt = lin_reg(78)\n",
      "print pt"
     ],
     "language": "python",
     "metadata": {},
     "outputs": [
      {
       "output_type": "stream",
       "stream": "stdout",
       "text": [
        "4.0336497852\n"
       ]
      }
     ],
     "prompt_number": 146
    },
    {
     "cell_type": "code",
     "collapsed": false,
     "input": [
      "data2.tail()"
     ],
     "language": "python",
     "metadata": {},
     "outputs": [
      {
       "html": [
        "<div style=\"max-height:1000px;max-width:1500px;overflow:auto;\">\n",
        "<table border=\"1\" class=\"dataframe\">\n",
        "  <thead>\n",
        "    <tr style=\"text-align: right;\">\n",
        "      <th></th>\n",
        "      <th>UNIT</th>\n",
        "      <th>DATEn</th>\n",
        "      <th>TIMEn</th>\n",
        "      <th>Hour</th>\n",
        "      <th>ENTRIESn_hourly</th>\n",
        "      <th>EXITSn_hourly</th>\n",
        "      <th>maxpressurei</th>\n",
        "      <th>maxdewpti</th>\n",
        "      <th>mindewpti</th>\n",
        "      <th>minpressurei</th>\n",
        "      <th>meandewpti</th>\n",
        "      <th>meanpressurei</th>\n",
        "      <th>meanwindspdi</th>\n",
        "      <th>mintempi</th>\n",
        "      <th>meantempi</th>\n",
        "      <th>maxtempi</th>\n",
        "      <th>precipi</th>\n",
        "      <th>weekday</th>\n",
        "      <th>rush</th>\n",
        "      <th>t_predicted_by_windspeed</th>\n",
        "    </tr>\n",
        "  </thead>\n",
        "  <tbody>\n",
        "    <tr>\n",
        "      <th>131946</th>\n",
        "      <td> R552</td>\n",
        "      <td>2011-05-30</td>\n",
        "      <td> 23:21:29</td>\n",
        "      <td> 23</td>\n",
        "      <td>  19</td>\n",
        "      <td>   14</td>\n",
        "      <td> 30.13</td>\n",
        "      <td> 70</td>\n",
        "      <td> 66</td>\n",
        "      <td> 30.01</td>\n",
        "      <td> 68</td>\n",
        "      <td> 30.08</td>\n",
        "      <td> 5</td>\n",
        "      <td> 70</td>\n",
        "      <td> 78</td>\n",
        "      <td> 86</td>\n",
        "      <td> 0.29</td>\n",
        "      <td> 0</td>\n",
        "      <td> False</td>\n",
        "      <td> 12.058788</td>\n",
        "    </tr>\n",
        "    <tr>\n",
        "      <th>131947</th>\n",
        "      <td> R552</td>\n",
        "      <td>2011-05-30</td>\n",
        "      <td> 23:23:30</td>\n",
        "      <td> 23</td>\n",
        "      <td> 158</td>\n",
        "      <td> 1022</td>\n",
        "      <td> 30.13</td>\n",
        "      <td> 70</td>\n",
        "      <td> 66</td>\n",
        "      <td> 30.01</td>\n",
        "      <td> 68</td>\n",
        "      <td> 30.08</td>\n",
        "      <td> 5</td>\n",
        "      <td> 70</td>\n",
        "      <td> 78</td>\n",
        "      <td> 86</td>\n",
        "      <td> 0.29</td>\n",
        "      <td> 0</td>\n",
        "      <td> False</td>\n",
        "      <td> 12.058788</td>\n",
        "    </tr>\n",
        "    <tr>\n",
        "      <th>131948</th>\n",
        "      <td> R552</td>\n",
        "      <td>2011-05-30</td>\n",
        "      <td> 23:28:44</td>\n",
        "      <td> 23</td>\n",
        "      <td>  54</td>\n",
        "      <td>  275</td>\n",
        "      <td> 30.13</td>\n",
        "      <td> 70</td>\n",
        "      <td> 66</td>\n",
        "      <td> 30.01</td>\n",
        "      <td> 68</td>\n",
        "      <td> 30.08</td>\n",
        "      <td> 5</td>\n",
        "      <td> 70</td>\n",
        "      <td> 78</td>\n",
        "      <td> 86</td>\n",
        "      <td> 0.29</td>\n",
        "      <td> 0</td>\n",
        "      <td> False</td>\n",
        "      <td> 12.058788</td>\n",
        "    </tr>\n",
        "    <tr>\n",
        "      <th>131949</th>\n",
        "      <td> R552</td>\n",
        "      <td>2011-05-30</td>\n",
        "      <td> 23:35:45</td>\n",
        "      <td> 23</td>\n",
        "      <td>  59</td>\n",
        "      <td>   46</td>\n",
        "      <td> 30.13</td>\n",
        "      <td> 70</td>\n",
        "      <td> 66</td>\n",
        "      <td> 30.01</td>\n",
        "      <td> 68</td>\n",
        "      <td> 30.08</td>\n",
        "      <td> 5</td>\n",
        "      <td> 70</td>\n",
        "      <td> 78</td>\n",
        "      <td> 86</td>\n",
        "      <td> 0.29</td>\n",
        "      <td> 0</td>\n",
        "      <td> False</td>\n",
        "      <td> 12.058788</td>\n",
        "    </tr>\n",
        "    <tr>\n",
        "      <th>131950</th>\n",
        "      <td> R552</td>\n",
        "      <td>2011-05-30</td>\n",
        "      <td> 23:50:47</td>\n",
        "      <td> 23</td>\n",
        "      <td> 123</td>\n",
        "      <td>  108</td>\n",
        "      <td> 30.13</td>\n",
        "      <td> 70</td>\n",
        "      <td> 66</td>\n",
        "      <td> 30.01</td>\n",
        "      <td> 68</td>\n",
        "      <td> 30.08</td>\n",
        "      <td> 5</td>\n",
        "      <td> 70</td>\n",
        "      <td> 78</td>\n",
        "      <td> 86</td>\n",
        "      <td> 0.29</td>\n",
        "      <td> 0</td>\n",
        "      <td> False</td>\n",
        "      <td> 12.058788</td>\n",
        "    </tr>\n",
        "  </tbody>\n",
        "</table>\n",
        "</div>"
       ],
       "metadata": {},
       "output_type": "pyout",
       "prompt_number": 147,
       "text": [
        "        UNIT      DATEn     TIMEn  Hour  ENTRIESn_hourly  EXITSn_hourly  \\\n",
        "131946  R552 2011-05-30  23:21:29    23               19             14   \n",
        "131947  R552 2011-05-30  23:23:30    23              158           1022   \n",
        "131948  R552 2011-05-30  23:28:44    23               54            275   \n",
        "131949  R552 2011-05-30  23:35:45    23               59             46   \n",
        "131950  R552 2011-05-30  23:50:47    23              123            108   \n",
        "\n",
        "        maxpressurei  maxdewpti  mindewpti  minpressurei  meandewpti  \\\n",
        "131946         30.13         70         66         30.01          68   \n",
        "131947         30.13         70         66         30.01          68   \n",
        "131948         30.13         70         66         30.01          68   \n",
        "131949         30.13         70         66         30.01          68   \n",
        "131950         30.13         70         66         30.01          68   \n",
        "\n",
        "        meanpressurei  meanwindspdi  mintempi  meantempi  maxtempi  precipi  \\\n",
        "131946          30.08             5        70         78        86     0.29   \n",
        "131947          30.08             5        70         78        86     0.29   \n",
        "131948          30.08             5        70         78        86     0.29   \n",
        "131949          30.08             5        70         78        86     0.29   \n",
        "131950          30.08             5        70         78        86     0.29   \n",
        "\n",
        "        weekday   rush  t_predicted_by_windspeed  \n",
        "131946        0  False                 12.058788  \n",
        "131947        0  False                 12.058788  \n",
        "131948        0  False                 12.058788  \n",
        "131949        0  False                 12.058788  \n",
        "131950        0  False                 12.058788  "
       ]
      }
     ],
     "prompt_number": 147
    },
    {
     "cell_type": "code",
     "collapsed": false,
     "input": [
      "data2[['meanwindspdi', 'meantempi', 't_predicted_by_windspeed']].plot( subplots = True, figsize = (15,8))"
     ],
     "language": "python",
     "metadata": {},
     "outputs": [
      {
       "metadata": {},
       "output_type": "pyout",
       "prompt_number": 139,
       "text": [
        "array([<matplotlib.axes.AxesSubplot object at 0x1367af10>,\n",
        "       <matplotlib.axes.AxesSubplot object at 0x142777d0>,\n",
        "       <matplotlib.axes.AxesSubplot object at 0x14291550>], dtype=object)"
       ]
      },
      {
       "metadata": {},
       "output_type": "display_data",
       "png": "[encoded data removed]",
       "text": [
        "<matplotlib.figure.Figure at 0x13e789d0>"
       ]
      }
     ],
     "prompt_number": 139
    },
    {
     "cell_type": "code",
     "collapsed": false,
     "input": [
      "data2[['meanwindspdi', 'meantempi', 't_predicted_by_windspeed']].plot(kind = 'scatter', x = 'meanwindspdi', y = 't_predicted_by_windspeed', figsize = (15,8))"
     ],
     "language": "python",
     "metadata": {},
     "outputs": [
      {
       "metadata": {},
       "output_type": "pyout",
       "prompt_number": 138,
       "text": [
        "<matplotlib.axes.AxesSubplot at 0x12346f90>"
       ]
      },
      {
       "metadata": {},
       "output_type": "display_data",
       "png": "[encoded data removed]",
       "text": [
        "<matplotlib.figure.Figure at 0x1052b790>"
       ]
      }
     ],
     "prompt_number": 138
    },
    {
     "cell_type": "code",
     "collapsed": false,
     "input": [
      "data2[['meanwindspdi', 'meantempi', 't_predicted_by_windspeed']].plot(kind = 'scatter', x = 'meanwindspdi', y = 'meantempi', figsize = (15,8))"
     ],
     "language": "python",
     "metadata": {},
     "outputs": [
      {
       "metadata": {},
       "output_type": "pyout",
       "prompt_number": 137,
       "text": [
        "<matplotlib.axes.AxesSubplot at 0x12327590>"
       ]
      },
      {
       "metadata": {},
       "output_type": "display_data",
       "png": "[encoded data removed]",
       "text": [
        "<matplotlib.figure.Figure at 0x13e6e390>"
       ]
      }
     ],
     "prompt_number": 137
    },
    {
     "cell_type": "code",
     "collapsed": false,
     "input": [],
     "language": "python",
     "metadata": {},
     "outputs": []
    }
   ],
   "metadata": {}
  }
 ]
}